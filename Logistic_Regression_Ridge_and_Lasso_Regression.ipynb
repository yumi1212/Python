{
  "nbformat": 4,
  "nbformat_minor": 0,
  "metadata": {
    "colab": {
      "name": "Logistic_Regression_Ridge_and_Lasso_Regression.ipynb",
      "provenance": []
    },
    "kernelspec": {
      "name": "python3",
      "display_name": "Python 3"
    }
  },
  "cells": [
    {
      "cell_type": "markdown",
      "metadata": {
        "id": "KyaVJVAYV66B"
      },
      "source": [
        "# Logistic Regression, Ridge and Lasso Regression\n",
        "@Yuwei Hsu"
      ]
    },
    {
      "cell_type": "markdown",
      "metadata": {
        "id": "AkfywjgodR5_"
      },
      "source": [
        "# Import libraries"
      ]
    },
    {
      "cell_type": "code",
      "metadata": {
        "id": "Ao-XDVqAdexM"
      },
      "source": [
        "import numpy as np\n",
        "import pandas as pd\n",
        "import os\n",
        "import seaborn as sns\n",
        "import matplotlib.pyplot as plt\n",
        "import matplotlib.ticker as ticker\n",
        "\n",
        "from sklearn.feature_selection import RFE\n",
        "from sklearn import linear_model\n",
        "from sklearn.linear_model import LogisticRegression\n",
        "from sklearn.model_selection import train_test_split, cross_val_score, GridSearchCV\n",
        "from sklearn.metrics import classification_report\n",
        "\n",
        "from sklearn.linear_model import Ridge, RidgeCV\n",
        "from sklearn.linear_model import Lasso, LassoCV\n",
        "from sklearn.metrics import r2_score, mean_squared_error"
      ],
      "execution_count": null,
      "outputs": []
    },
    {
      "cell_type": "code",
      "metadata": {
        "id": "IJ-eHfppdxTk"
      },
      "source": [
        "# Set the graph size\n",
        "plt.style.use('fivethirtyeight')\n",
        "plt.rcParams[\"figure.figsize\"] = (24,8)"
      ],
      "execution_count": null,
      "outputs": []
    },
    {
      "cell_type": "markdown",
      "metadata": {
        "id": "eMDGinkOnYUy"
      },
      "source": [
        "# Logistic Regression:\n",
        "## Predict the reasons that people are going to leave the company."
      ]
    },
    {
      "cell_type": "markdown",
      "metadata": {
        "id": "_HJkHz4xkQpZ"
      },
      "source": [
        "## EDA"
      ]
    },
    {
      "cell_type": "markdown",
      "metadata": {
        "id": "-IRUEVd6dYmO"
      },
      "source": [
        "### Acquire data"
      ]
    },
    {
      "cell_type": "code",
      "metadata": {
        "colab": {
          "base_uri": "https://localhost:8080/"
        },
        "id": "V32NEkPFSaZY",
        "outputId": "590ba7d5-7716-4675-8dfe-cb567f59a462"
      },
      "source": [
        "path_1 = \"https://docs.google.com/spreadsheets/d/e/2PACX-1vSzbNvy6VkpDeHgxTjzBPsA4v8FwJbLtclQscxUdngJLZ3ERLi1AjeZjeXBz5cCJQQPqLvKkDce46s5/pub?gid=503476343&single=true&output=csv\"\n",
        "df1 = pd.read_csv(path_1)\n",
        "df1.shape"
      ],
      "execution_count": null,
      "outputs": [
        {
          "output_type": "execute_result",
          "data": {
            "text/plain": [
              "(11249, 10)"
            ]
          },
          "metadata": {
            "tags": []
          },
          "execution_count": 3
        }
      ]
    },
    {
      "cell_type": "code",
      "metadata": {
        "colab": {
          "base_uri": "https://localhost:8080/",
          "height": 224
        },
        "id": "f5EjSN9bo98A",
        "outputId": "9260c3b7-4bfb-48cd-b81e-45e28a6c1f32"
      },
      "source": [
        "df1.head()"
      ],
      "execution_count": null,
      "outputs": [
        {
          "output_type": "execute_result",
          "data": {
            "text/html": [
              "<div>\n",
              "<style scoped>\n",
              "    .dataframe tbody tr th:only-of-type {\n",
              "        vertical-align: middle;\n",
              "    }\n",
              "\n",
              "    .dataframe tbody tr th {\n",
              "        vertical-align: top;\n",
              "    }\n",
              "\n",
              "    .dataframe thead th {\n",
              "        text-align: right;\n",
              "    }\n",
              "</style>\n",
              "<table border=\"1\" class=\"dataframe\">\n",
              "  <thead>\n",
              "    <tr style=\"text-align: right;\">\n",
              "      <th></th>\n",
              "      <th>employee_satisfaction</th>\n",
              "      <th>last_performance_rating</th>\n",
              "      <th>workload</th>\n",
              "      <th>avg_montly_hours</th>\n",
              "      <th>tenure_years</th>\n",
              "      <th>ergo_issues</th>\n",
              "      <th>attrit</th>\n",
              "      <th>promo_in_last_5_years</th>\n",
              "      <th>dept</th>\n",
              "      <th>salary</th>\n",
              "    </tr>\n",
              "  </thead>\n",
              "  <tbody>\n",
              "    <tr>\n",
              "      <th>0</th>\n",
              "      <td>0.82</td>\n",
              "      <td>0.97</td>\n",
              "      <td>3</td>\n",
              "      <td>244</td>\n",
              "      <td>5</td>\n",
              "      <td>0</td>\n",
              "      <td>0</td>\n",
              "      <td>0</td>\n",
              "      <td>SALES</td>\n",
              "      <td>MEDIUM</td>\n",
              "    </tr>\n",
              "    <tr>\n",
              "      <th>1</th>\n",
              "      <td>0.75</td>\n",
              "      <td>0.81</td>\n",
              "      <td>2</td>\n",
              "      <td>247</td>\n",
              "      <td>4</td>\n",
              "      <td>0</td>\n",
              "      <td>0</td>\n",
              "      <td>0</td>\n",
              "      <td>HR</td>\n",
              "      <td>SMALL</td>\n",
              "    </tr>\n",
              "    <tr>\n",
              "      <th>2</th>\n",
              "      <td>0.54</td>\n",
              "      <td>0.81</td>\n",
              "      <td>4</td>\n",
              "      <td>257</td>\n",
              "      <td>2</td>\n",
              "      <td>0</td>\n",
              "      <td>0</td>\n",
              "      <td>0</td>\n",
              "      <td>ADMIN</td>\n",
              "      <td>SMALL</td>\n",
              "    </tr>\n",
              "    <tr>\n",
              "      <th>3</th>\n",
              "      <td>0.60</td>\n",
              "      <td>0.65</td>\n",
              "      <td>4</td>\n",
              "      <td>160</td>\n",
              "      <td>2</td>\n",
              "      <td>0</td>\n",
              "      <td>0</td>\n",
              "      <td>0</td>\n",
              "      <td>IS</td>\n",
              "      <td>SMALL</td>\n",
              "    </tr>\n",
              "    <tr>\n",
              "      <th>4</th>\n",
              "      <td>0.85</td>\n",
              "      <td>0.92</td>\n",
              "      <td>4</td>\n",
              "      <td>151</td>\n",
              "      <td>3</td>\n",
              "      <td>1</td>\n",
              "      <td>0</td>\n",
              "      <td>0</td>\n",
              "      <td>IS</td>\n",
              "      <td>MEDIUM</td>\n",
              "    </tr>\n",
              "  </tbody>\n",
              "</table>\n",
              "</div>"
            ],
            "text/plain": [
              "   employee_satisfaction  last_performance_rating  ...   dept  salary\n",
              "0                   0.82                     0.97  ...  SALES  MEDIUM\n",
              "1                   0.75                     0.81  ...     HR   SMALL\n",
              "2                   0.54                     0.81  ...  ADMIN   SMALL\n",
              "3                   0.60                     0.65  ...     IS   SMALL\n",
              "4                   0.85                     0.92  ...     IS  MEDIUM\n",
              "\n",
              "[5 rows x 10 columns]"
            ]
          },
          "metadata": {
            "tags": []
          },
          "execution_count": 4
        }
      ]
    },
    {
      "cell_type": "markdown",
      "metadata": {
        "id": "1zG9GuiYko8t"
      },
      "source": [
        "### Description of quantitative variables"
      ]
    },
    {
      "cell_type": "code",
      "metadata": {
        "colab": {
          "base_uri": "https://localhost:8080/",
          "height": 317
        },
        "id": "yVsxlpD8f6fT",
        "outputId": "53ba82a2-a566-4aa4-c485-1575223e6638"
      },
      "source": [
        "df1.describe()"
      ],
      "execution_count": null,
      "outputs": [
        {
          "output_type": "execute_result",
          "data": {
            "text/html": [
              "<div>\n",
              "<style scoped>\n",
              "    .dataframe tbody tr th:only-of-type {\n",
              "        vertical-align: middle;\n",
              "    }\n",
              "\n",
              "    .dataframe tbody tr th {\n",
              "        vertical-align: top;\n",
              "    }\n",
              "\n",
              "    .dataframe thead th {\n",
              "        text-align: right;\n",
              "    }\n",
              "</style>\n",
              "<table border=\"1\" class=\"dataframe\">\n",
              "  <thead>\n",
              "    <tr style=\"text-align: right;\">\n",
              "      <th></th>\n",
              "      <th>employee_satisfaction</th>\n",
              "      <th>last_performance_rating</th>\n",
              "      <th>workload</th>\n",
              "      <th>avg_montly_hours</th>\n",
              "      <th>tenure_years</th>\n",
              "      <th>ergo_issues</th>\n",
              "      <th>attrit</th>\n",
              "      <th>promo_in_last_5_years</th>\n",
              "    </tr>\n",
              "  </thead>\n",
              "  <tbody>\n",
              "    <tr>\n",
              "      <th>count</th>\n",
              "      <td>11249.000000</td>\n",
              "      <td>11249.000000</td>\n",
              "      <td>11249.000000</td>\n",
              "      <td>11249.000000</td>\n",
              "      <td>11249.000000</td>\n",
              "      <td>11249.000000</td>\n",
              "      <td>11249.000000</td>\n",
              "      <td>11249.000000</td>\n",
              "    </tr>\n",
              "    <tr>\n",
              "      <th>mean</th>\n",
              "      <td>0.612957</td>\n",
              "      <td>0.716225</td>\n",
              "      <td>3.799716</td>\n",
              "      <td>201.176727</td>\n",
              "      <td>3.499600</td>\n",
              "      <td>0.144991</td>\n",
              "      <td>0.239577</td>\n",
              "      <td>0.021869</td>\n",
              "    </tr>\n",
              "    <tr>\n",
              "      <th>std</th>\n",
              "      <td>0.248235</td>\n",
              "      <td>0.171378</td>\n",
              "      <td>1.232190</td>\n",
              "      <td>50.058105</td>\n",
              "      <td>1.469892</td>\n",
              "      <td>0.352107</td>\n",
              "      <td>0.426844</td>\n",
              "      <td>0.146261</td>\n",
              "    </tr>\n",
              "    <tr>\n",
              "      <th>min</th>\n",
              "      <td>0.090000</td>\n",
              "      <td>0.360000</td>\n",
              "      <td>2.000000</td>\n",
              "      <td>96.000000</td>\n",
              "      <td>2.000000</td>\n",
              "      <td>0.000000</td>\n",
              "      <td>0.000000</td>\n",
              "      <td>0.000000</td>\n",
              "    </tr>\n",
              "    <tr>\n",
              "      <th>25%</th>\n",
              "      <td>0.440000</td>\n",
              "      <td>0.560000</td>\n",
              "      <td>3.000000</td>\n",
              "      <td>156.000000</td>\n",
              "      <td>3.000000</td>\n",
              "      <td>0.000000</td>\n",
              "      <td>0.000000</td>\n",
              "      <td>0.000000</td>\n",
              "    </tr>\n",
              "    <tr>\n",
              "      <th>50%</th>\n",
              "      <td>0.640000</td>\n",
              "      <td>0.720000</td>\n",
              "      <td>4.000000</td>\n",
              "      <td>201.000000</td>\n",
              "      <td>3.000000</td>\n",
              "      <td>0.000000</td>\n",
              "      <td>0.000000</td>\n",
              "      <td>0.000000</td>\n",
              "    </tr>\n",
              "    <tr>\n",
              "      <th>75%</th>\n",
              "      <td>0.820000</td>\n",
              "      <td>0.870000</td>\n",
              "      <td>5.000000</td>\n",
              "      <td>245.000000</td>\n",
              "      <td>4.000000</td>\n",
              "      <td>0.000000</td>\n",
              "      <td>0.000000</td>\n",
              "      <td>0.000000</td>\n",
              "    </tr>\n",
              "    <tr>\n",
              "      <th>max</th>\n",
              "      <td>1.000000</td>\n",
              "      <td>1.000000</td>\n",
              "      <td>7.000000</td>\n",
              "      <td>310.000000</td>\n",
              "      <td>10.000000</td>\n",
              "      <td>1.000000</td>\n",
              "      <td>1.000000</td>\n",
              "      <td>1.000000</td>\n",
              "    </tr>\n",
              "  </tbody>\n",
              "</table>\n",
              "</div>"
            ],
            "text/plain": [
              "       employee_satisfaction  ...  promo_in_last_5_years\n",
              "count           11249.000000  ...           11249.000000\n",
              "mean                0.612957  ...               0.021869\n",
              "std                 0.248235  ...               0.146261\n",
              "min                 0.090000  ...               0.000000\n",
              "25%                 0.440000  ...               0.000000\n",
              "50%                 0.640000  ...               0.000000\n",
              "75%                 0.820000  ...               0.000000\n",
              "max                 1.000000  ...               1.000000\n",
              "\n",
              "[8 rows x 8 columns]"
            ]
          },
          "metadata": {
            "tags": []
          },
          "execution_count": 5
        }
      ]
    },
    {
      "cell_type": "markdown",
      "metadata": {
        "id": "odAYdKdClDfd"
      },
      "source": [
        "- The values of workload are recorded as numerical variable, however, it is categorical variable that describes different levels of workload.\n",
        "- The mean of attrit in this dataset is around 0.24.\n"
      ]
    },
    {
      "cell_type": "code",
      "metadata": {
        "colab": {
          "base_uri": "https://localhost:8080/"
        },
        "id": "A8m5A2Y1mrpc",
        "outputId": "d6338224-90a4-44b8-872a-d4d3afd8bfae"
      },
      "source": [
        "# Count the frequency of attrit\n",
        "df1['attrit'].value_counts()"
      ],
      "execution_count": null,
      "outputs": [
        {
          "output_type": "execute_result",
          "data": {
            "text/plain": [
              "0    8554\n",
              "1    2695\n",
              "Name: attrit, dtype: int64"
            ]
          },
          "metadata": {
            "tags": []
          },
          "execution_count": 6
        }
      ]
    },
    {
      "cell_type": "markdown",
      "metadata": {
        "id": "-h5BmE2BlLNg"
      },
      "source": [
        "- 2695 out of 11249 people are going to leave the company."
      ]
    },
    {
      "cell_type": "code",
      "metadata": {
        "colab": {
          "base_uri": "https://localhost:8080/",
          "height": 142
        },
        "id": "nVHtzw9mm4CZ",
        "outputId": "62f9a49f-ca03-49ea-da74-f9ad3904c2b9"
      },
      "source": [
        "# Get the mean of each feature, group by atrrit\n",
        "df1.groupby('attrit').mean()"
      ],
      "execution_count": null,
      "outputs": [
        {
          "output_type": "execute_result",
          "data": {
            "text/html": [
              "<div>\n",
              "<style scoped>\n",
              "    .dataframe tbody tr th:only-of-type {\n",
              "        vertical-align: middle;\n",
              "    }\n",
              "\n",
              "    .dataframe tbody tr th {\n",
              "        vertical-align: top;\n",
              "    }\n",
              "\n",
              "    .dataframe thead th {\n",
              "        text-align: right;\n",
              "    }\n",
              "</style>\n",
              "<table border=\"1\" class=\"dataframe\">\n",
              "  <thead>\n",
              "    <tr style=\"text-align: right;\">\n",
              "      <th></th>\n",
              "      <th>employee_satisfaction</th>\n",
              "      <th>last_performance_rating</th>\n",
              "      <th>workload</th>\n",
              "      <th>avg_montly_hours</th>\n",
              "      <th>tenure_years</th>\n",
              "      <th>ergo_issues</th>\n",
              "      <th>promo_in_last_5_years</th>\n",
              "    </tr>\n",
              "    <tr>\n",
              "      <th>attrit</th>\n",
              "      <th></th>\n",
              "      <th></th>\n",
              "      <th></th>\n",
              "      <th></th>\n",
              "      <th></th>\n",
              "      <th></th>\n",
              "      <th></th>\n",
              "    </tr>\n",
              "  </thead>\n",
              "  <tbody>\n",
              "    <tr>\n",
              "      <th>0</th>\n",
              "      <td>0.667108</td>\n",
              "      <td>0.715087</td>\n",
              "      <td>3.779635</td>\n",
              "      <td>198.999766</td>\n",
              "      <td>3.379238</td>\n",
              "      <td>0.175473</td>\n",
              "      <td>0.027473</td>\n",
              "    </tr>\n",
              "    <tr>\n",
              "      <th>1</th>\n",
              "      <td>0.441080</td>\n",
              "      <td>0.719837</td>\n",
              "      <td>3.863451</td>\n",
              "      <td>208.086456</td>\n",
              "      <td>3.881633</td>\n",
              "      <td>0.048237</td>\n",
              "      <td>0.004082</td>\n",
              "    </tr>\n",
              "  </tbody>\n",
              "</table>\n",
              "</div>"
            ],
            "text/plain": [
              "        employee_satisfaction  ...  promo_in_last_5_years\n",
              "attrit                         ...                       \n",
              "0                    0.667108  ...               0.027473\n",
              "1                    0.441080  ...               0.004082\n",
              "\n",
              "[2 rows x 7 columns]"
            ]
          },
          "metadata": {
            "tags": []
          },
          "execution_count": 7
        }
      ]
    },
    {
      "cell_type": "markdown",
      "metadata": {
        "id": "oI2hbL-_ljj1"
      },
      "source": [
        "It is not suprising to see:\n",
        "- The average of employee satisfication of people are going to leave the company(0.441) is lower than the mean of employee satisfication of people are not leaving(0.667) and the whole dataset(0.613).\n",
        "- The mean of who has promotion in last five years and who is going to leave the company(0.004) is much more lower than the average."
      ]
    },
    {
      "cell_type": "code",
      "metadata": {
        "colab": {
          "base_uri": "https://localhost:8080/",
          "height": 421
        },
        "id": "y8cVO_LgCKr2",
        "outputId": "c1bc40d2-d24f-4292-9f61-1adea39c27cf"
      },
      "source": [
        "# Plot the frequecy of workload cut by attrit\n",
        "ax = sns.displot(df1,x = 'workload',hue = 'attrit')\n",
        "plt.title('Frequency of Workload\\ncut by Attrit')\n",
        "plt.xlabel('Workload')\n",
        "plt.ylabel('Frequency')"
      ],
      "execution_count": null,
      "outputs": [
        {
          "output_type": "execute_result",
          "data": {
            "text/plain": [
              "Text(4.703777430555554, 0.5, 'Frequency')"
            ]
          },
          "metadata": {
            "tags": []
          },
          "execution_count": 8
        },
        {
          "output_type": "display_data",
          "data": {
            "image/png": "[encoded data removed]",
            "text/plain": [
              "<Figure size 419.275x360 with 1 Axes>"
            ]
          },
          "metadata": {
            "tags": []
          }
        }
      ]
    },
    {
      "cell_type": "markdown",
      "metadata": {
        "id": "mkdc1tNvmBtg"
      },
      "source": [
        "- We can see that the frequency of attrition depends a great deal on the workload levels from the plot shown above."
      ]
    },
    {
      "cell_type": "markdown",
      "metadata": {
        "id": "6H6WM2iJlmHK"
      },
      "source": [
        "### Description of qualitative variables"
      ]
    },
    {
      "cell_type": "code",
      "metadata": {
        "colab": {
          "base_uri": "https://localhost:8080/",
          "height": 517
        },
        "id": "UTKIxlPRClEg",
        "outputId": "282ac2a6-5f25-4ebc-fb46-8fd9b9995340"
      },
      "source": [
        "# Draw stack bar char of dept cut by attrit\n",
        "table_dept = pd.crosstab(df1.dept,df1.attrit)\n",
        "table_dept.div(table_dept.sum(1).astype(float), axis=0).plot(kind='bar', stacked=True)\n",
        "plt.title('Percentage of Attrit in each Department')\n",
        "plt.xlabel('Department')\n",
        "plt.ylabel('Density')"
      ],
      "execution_count": null,
      "outputs": [
        {
          "output_type": "execute_result",
          "data": {
            "text/plain": [
              "Text(0, 0.5, 'Density')"
            ]
          },
          "metadata": {
            "tags": []
          },
          "execution_count": 9
        },
        {
          "output_type": "display_data",
          "data": {
            "image/png": "[encoded data removed]",
            "text/plain": [
              "<Figure size 1728x576 with 1 Axes>"
            ]
          },
          "metadata": {
            "tags": []
          }
        }
      ]
    },
    {
      "cell_type": "markdown",
      "metadata": {
        "id": "j2Te1aNCmrij"
      },
      "source": [
        "- Each department is more or less around 0.8 percentage of attrition, it may not be helpful to prediction."
      ]
    },
    {
      "cell_type": "code",
      "metadata": {
        "colab": {
          "base_uri": "https://localhost:8080/",
          "height": 541
        },
        "id": "wFCrD3PX60Fp",
        "outputId": "53ccb5a7-fc05-4bbf-ce4d-dc53949d0bac"
      },
      "source": [
        "# Plot the frequency of salary cut by attrit\n",
        "pd.crosstab(df1.salary,df1.attrit).plot(kind='bar')\n",
        "plt.title('Frequency of Salary\\ncut by Attrit')\n",
        "plt.xlabel('Salary')\n",
        "plt.ylabel('Frequency')"
      ],
      "execution_count": null,
      "outputs": [
        {
          "output_type": "execute_result",
          "data": {
            "text/plain": [
              "Text(0, 0.5, 'Frequency')"
            ]
          },
          "metadata": {
            "tags": []
          },
          "execution_count": 10
        },
        {
          "output_type": "display_data",
          "data": {
            "image/png": "[encoded data removed]",
            "text/plain": [
              "<Figure size 1728x576 with 1 Axes>"
            ]
          },
          "metadata": {
            "tags": []
          }
        }
      ]
    },
    {
      "cell_type": "markdown",
      "metadata": {
        "id": "vsWKnjVvolPr"
      },
      "source": [
        "- The plot above shows that the positive attrition varies depending on salary amont, which might be a good predictor."
      ]
    },
    {
      "cell_type": "code",
      "metadata": {
        "colab": {
          "base_uri": "https://localhost:8080/",
          "height": 142
        },
        "id": "Fgs5Mjqk5-II",
        "outputId": "9af3d962-134f-4095-8ac8-d50737d8cd8e"
      },
      "source": [
        "# Contingency table(and percentage) of ergo_issue and attrit\n",
        "table_ergo = pd.crosstab(df1.ergo_issues,df1.attrit)\n",
        "table_ergopct = table_ergo.astype('float').div(table_ergo.sum(axis=1),axis=0)*100.00\n",
        "table_ergo"
      ],
      "execution_count": null,
      "outputs": [
        {
          "output_type": "execute_result",
          "data": {
            "text/html": [
              "<div>\n",
              "<style scoped>\n",
              "    .dataframe tbody tr th:only-of-type {\n",
              "        vertical-align: middle;\n",
              "    }\n",
              "\n",
              "    .dataframe tbody tr th {\n",
              "        vertical-align: top;\n",
              "    }\n",
              "\n",
              "    .dataframe thead th {\n",
              "        text-align: right;\n",
              "    }\n",
              "</style>\n",
              "<table border=\"1\" class=\"dataframe\">\n",
              "  <thead>\n",
              "    <tr style=\"text-align: right;\">\n",
              "      <th>attrit</th>\n",
              "      <th>0</th>\n",
              "      <th>1</th>\n",
              "    </tr>\n",
              "    <tr>\n",
              "      <th>ergo_issues</th>\n",
              "      <th></th>\n",
              "      <th></th>\n",
              "    </tr>\n",
              "  </thead>\n",
              "  <tbody>\n",
              "    <tr>\n",
              "      <th>0</th>\n",
              "      <td>7053</td>\n",
              "      <td>2565</td>\n",
              "    </tr>\n",
              "    <tr>\n",
              "      <th>1</th>\n",
              "      <td>1501</td>\n",
              "      <td>130</td>\n",
              "    </tr>\n",
              "  </tbody>\n",
              "</table>\n",
              "</div>"
            ],
            "text/plain": [
              "attrit          0     1\n",
              "ergo_issues            \n",
              "0            7053  2565\n",
              "1            1501   130"
            ]
          },
          "metadata": {
            "tags": []
          },
          "execution_count": 11
        }
      ]
    },
    {
      "cell_type": "code",
      "metadata": {
        "colab": {
          "base_uri": "https://localhost:8080/",
          "height": 142
        },
        "id": "j8RS-XN7HRnU",
        "outputId": "81d3fa09-b238-4b85-860e-e8b2cd2a9835"
      },
      "source": [
        "# Contingency table(and percentage) of promo_in_last_5_years and attrit\n",
        "table_promoted = pd.crosstab(df1.promo_in_last_5_years,df1.attrit)\n",
        "table_promotedpct = table_promoted.astype('float').div(table_promoted.sum(axis=1),axis=0)*100.00\n",
        "table_promoted"
      ],
      "execution_count": null,
      "outputs": [
        {
          "output_type": "execute_result",
          "data": {
            "text/html": [
              "<div>\n",
              "<style scoped>\n",
              "    .dataframe tbody tr th:only-of-type {\n",
              "        vertical-align: middle;\n",
              "    }\n",
              "\n",
              "    .dataframe tbody tr th {\n",
              "        vertical-align: top;\n",
              "    }\n",
              "\n",
              "    .dataframe thead th {\n",
              "        text-align: right;\n",
              "    }\n",
              "</style>\n",
              "<table border=\"1\" class=\"dataframe\">\n",
              "  <thead>\n",
              "    <tr style=\"text-align: right;\">\n",
              "      <th>attrit</th>\n",
              "      <th>0</th>\n",
              "      <th>1</th>\n",
              "    </tr>\n",
              "    <tr>\n",
              "      <th>promo_in_last_5_years</th>\n",
              "      <th></th>\n",
              "      <th></th>\n",
              "    </tr>\n",
              "  </thead>\n",
              "  <tbody>\n",
              "    <tr>\n",
              "      <th>0</th>\n",
              "      <td>8319</td>\n",
              "      <td>2684</td>\n",
              "    </tr>\n",
              "    <tr>\n",
              "      <th>1</th>\n",
              "      <td>235</td>\n",
              "      <td>11</td>\n",
              "    </tr>\n",
              "  </tbody>\n",
              "</table>\n",
              "</div>"
            ],
            "text/plain": [
              "attrit                    0     1\n",
              "promo_in_last_5_years            \n",
              "0                      8319  2684\n",
              "1                       235    11"
            ]
          },
          "metadata": {
            "tags": []
          },
          "execution_count": 12
        }
      ]
    },
    {
      "cell_type": "code",
      "metadata": {
        "colab": {
          "base_uri": "https://localhost:8080/",
          "height": 54
        },
        "id": "XzuAGSAsG4gx",
        "outputId": "e8ca8cf4-7add-4b87-9ad3-7dedbec34fd6"
      },
      "source": [
        "# Draw the pie charts of the percentage of attrit between ergo_issue and promo_in_last_5_years\n",
        "label = table_ergopct.columns\n",
        "fig,((ax1,ax2),(ax3,ax4)) = plt.subplots(2,2,figsize = (8,8))\n",
        "ax1.pie(table_ergopct.loc[0], labels = label, autopct='%1.1f%%', startangle=90)\n",
        "ax2.pie(table_ergopct.loc[1], labels = label,autopct='%1.1f%%', startangle=90)\n",
        "ax3.pie(table_promotedpct.loc[0],labels = label,autopct ='%1.1f%%', startangle=90)\n",
        "ax4.pie(table_promotedpct.loc[1],labels = label, autopct ='%1.1f%%', startangle=90)\n",
        "ax1.set_xlabel('No ergo issues')\n",
        "ax2.set_xlabel('Has ergo issues')\n",
        "ax3.set_xlabel('No promotion in last 5 years')\n",
        "ax4.set_xlabel('Promoted in last 5 years')\n",
        "ax1.set_ylabel('Erogo Issue')\n",
        "ax3.set_ylabel('Promotion')\n",
        "fig.suptitle('Percentage of Attrition\\nBetween Ergo Issue and Promotion')\n",
        "plt.show()"
      ],
      "execution_count": null,
      "outputs": [
        {
          "output_type": "display_data",
          "data": {
            "image/png": "[encoded data removed]",
            "text/plain": [
              "<Figure size 576x576 with 4 Axes>"
            ]
          },
          "metadata": {
            "tags": []
          }
        }
      ]
    },
    {
      "cell_type": "markdown",
      "metadata": {
        "id": "NhyKO2IMn5D1"
      },
      "source": [
        "- The precentage of attrition for each group varies widely; hence, ergo_issue and promo_in_last_5_years might both be good predictor for the outcome."
      ]
    },
    {
      "cell_type": "markdown",
      "metadata": {
        "id": "RG-4bJWTG647"
      },
      "source": [
        "## Implement Logistic Regression"
      ]
    },
    {
      "cell_type": "markdown",
      "metadata": {
        "id": "jjjmpKVkoDR3"
      },
      "source": [
        "### Create dummy variables for categorical features\n"
      ]
    },
    {
      "cell_type": "code",
      "metadata": {
        "colab": {
          "base_uri": "https://localhost:8080/"
        },
        "id": "ZN6_8-67oxPy",
        "outputId": "d259b62e-ab4d-4d9f-8227-c60c5e9c1147"
      },
      "source": [
        "# Show the column names\n",
        "list(df1.columns)"
      ],
      "execution_count": null,
      "outputs": [
        {
          "output_type": "execute_result",
          "data": {
            "text/plain": [
              "['employee_satisfaction',\n",
              " 'last_performance_rating',\n",
              " 'workload',\n",
              " 'avg_montly_hours',\n",
              " 'tenure_years',\n",
              " 'ergo_issues',\n",
              " 'attrit',\n",
              " 'promo_in_last_5_years',\n",
              " 'dept',\n",
              " 'salary']"
            ]
          },
          "metadata": {
            "tags": []
          },
          "execution_count": 14
        }
      ]
    },
    {
      "cell_type": "code",
      "metadata": {
        "colab": {
          "base_uri": "https://localhost:8080/"
        },
        "id": "wo4SY-UhoCjM",
        "outputId": "ddbcd418-c3b6-467e-d5ec-b503806b6428"
      },
      "source": [
        "# Create dummy variables for each categorical feature, then join them into df1 dataframe\n",
        "cat_vars=['workload','ergo_issues','promo_in_last_5_years','dept','salary']\n",
        "for var in cat_vars:\n",
        "    cat_list='var'+'_'+var\n",
        "    cat_list = pd.get_dummies(df1[var], prefix=var)\n",
        "    df_t=df1.join(cat_list)\n",
        "    df1=df_t\n",
        "\n",
        "# Remove the original categorical variables\n",
        "df1_vars=df1.columns.values.tolist()\n",
        "to_keep=[i for i in df1_vars if i not in cat_vars]\n",
        "\n",
        "# Select the converted categorical variables and numerical variables as new dataframe \n",
        "df1_final=df1[to_keep]\n",
        "df1_final.columns.values"
      ],
      "execution_count": null,
      "outputs": [
        {
          "output_type": "execute_result",
          "data": {
            "text/plain": [
              "array(['employee_satisfaction', 'last_performance_rating',\n",
              "       'avg_montly_hours', 'tenure_years', 'attrit', 'workload_2',\n",
              "       'workload_3', 'workload_4', 'workload_5', 'workload_6',\n",
              "       'workload_7', 'ergo_issues_0', 'ergo_issues_1',\n",
              "       'promo_in_last_5_years_0', 'promo_in_last_5_years_1', 'dept_ADMIN',\n",
              "       'dept_EXEC', 'dept_FIN', 'dept_HR', 'dept_IS', 'dept_MKT',\n",
              "       'dept_PM', 'dept_RTD', 'dept_SALES', 'dept_TECH', 'salary_LARGE',\n",
              "       'salary_MEDIUM', 'salary_SMALL'], dtype=object)"
            ]
          },
          "metadata": {
            "tags": []
          },
          "execution_count": 15
        }
      ]
    },
    {
      "cell_type": "markdown",
      "metadata": {
        "id": "atvetEFUsXGI"
      },
      "source": [
        "### Feature Selection"
      ]
    },
    {
      "cell_type": "code",
      "metadata": {
        "id": "Xp3Zdda1IcrN"
      },
      "source": [
        "# Split X and Y for prediction\n",
        "df1_final_vars = df1_final.columns.values.tolist()\n",
        "Y = ['attrit']\n",
        "X = [i for i in df1_final_vars if i not in Y ]\n",
        "#X"
      ],
      "execution_count": null,
      "outputs": []
    },
    {
      "cell_type": "code",
      "metadata": {
        "colab": {
          "base_uri": "https://localhost:8080/"
        },
        "id": "ohRIgjnGIpY_",
        "outputId": "9bc00e68-1638-4765-d925-4566143280a4"
      },
      "source": [
        "# Decide the columns that are more significant\n",
        "model = LogisticRegression()\n",
        "rfe = RFE(model, 12)\n",
        "rfe = rfe.fit(df1_final[X],df1_final[Y])\n",
        "#rfe.ranking_"
      ],
      "execution_count": null,
      "outputs": [
        {
          "output_type": "stream",
          "text": [
            "/usr/local/lib/python3.6/dist-packages/sklearn/utils/validation.py:760: DataConversionWarning: A column-vector y was passed when a 1d array was expected. Please change the shape of y to (n_samples, ), for example using ravel().\n",
            "  y = column_or_1d(y, warn=True)\n",
            "/usr/local/lib/python3.6/dist-packages/sklearn/linear_model/_logistic.py:940: ConvergenceWarning: lbfgs failed to converge (status=1):\n",
            "STOP: TOTAL NO. of ITERATIONS REACHED LIMIT.\n",
            "\n",
            "Increase the number of iterations (max_iter) or scale the data as shown in:\n",
            "    https://scikit-learn.org/stable/modules/preprocessing.html\n",
            "Please also refer to the documentation for alternative solver options:\n",
            "    https://scikit-learn.org/stable/modules/linear_model.html#logistic-regression\n",
            "  extra_warning_msg=_LOGISTIC_SOLVER_CONVERGENCE_MSG)\n",
            "/usr/local/lib/python3.6/dist-packages/sklearn/linear_model/_logistic.py:940: ConvergenceWarning: lbfgs failed to converge (status=1):\n",
            "STOP: TOTAL NO. of ITERATIONS REACHED LIMIT.\n",
            "\n",
            "Increase the number of iterations (max_iter) or scale the data as shown in:\n",
            "    https://scikit-learn.org/stable/modules/preprocessing.html\n",
            "Please also refer to the documentation for alternative solver options:\n",
            "    https://scikit-learn.org/stable/modules/linear_model.html#logistic-regression\n",
            "  extra_warning_msg=_LOGISTIC_SOLVER_CONVERGENCE_MSG)\n",
            "/usr/local/lib/python3.6/dist-packages/sklearn/linear_model/_logistic.py:940: ConvergenceWarning: lbfgs failed to converge (status=1):\n",
            "STOP: TOTAL NO. of ITERATIONS REACHED LIMIT.\n",
            "\n",
            "Increase the number of iterations (max_iter) or scale the data as shown in:\n",
            "    https://scikit-learn.org/stable/modules/preprocessing.html\n",
            "Please also refer to the documentation for alternative solver options:\n",
            "    https://scikit-learn.org/stable/modules/linear_model.html#logistic-regression\n",
            "  extra_warning_msg=_LOGISTIC_SOLVER_CONVERGENCE_MSG)\n",
            "/usr/local/lib/python3.6/dist-packages/sklearn/linear_model/_logistic.py:940: ConvergenceWarning: lbfgs failed to converge (status=1):\n",
            "STOP: TOTAL NO. of ITERATIONS REACHED LIMIT.\n",
            "\n",
            "Increase the number of iterations (max_iter) or scale the data as shown in:\n",
            "    https://scikit-learn.org/stable/modules/preprocessing.html\n",
            "Please also refer to the documentation for alternative solver options:\n",
            "    https://scikit-learn.org/stable/modules/linear_model.html#logistic-regression\n",
            "  extra_warning_msg=_LOGISTIC_SOLVER_CONVERGENCE_MSG)\n",
            "/usr/local/lib/python3.6/dist-packages/sklearn/linear_model/_logistic.py:940: ConvergenceWarning: lbfgs failed to converge (status=1):\n",
            "STOP: TOTAL NO. of ITERATIONS REACHED LIMIT.\n",
            "\n",
            "Increase the number of iterations (max_iter) or scale the data as shown in:\n",
            "    https://scikit-learn.org/stable/modules/preprocessing.html\n",
            "Please also refer to the documentation for alternative solver options:\n",
            "    https://scikit-learn.org/stable/modules/linear_model.html#logistic-regression\n",
            "  extra_warning_msg=_LOGISTIC_SOLVER_CONVERGENCE_MSG)\n",
            "/usr/local/lib/python3.6/dist-packages/sklearn/linear_model/_logistic.py:940: ConvergenceWarning: lbfgs failed to converge (status=1):\n",
            "STOP: TOTAL NO. of ITERATIONS REACHED LIMIT.\n",
            "\n",
            "Increase the number of iterations (max_iter) or scale the data as shown in:\n",
            "    https://scikit-learn.org/stable/modules/preprocessing.html\n",
            "Please also refer to the documentation for alternative solver options:\n",
            "    https://scikit-learn.org/stable/modules/linear_model.html#logistic-regression\n",
            "  extra_warning_msg=_LOGISTIC_SOLVER_CONVERGENCE_MSG)\n",
            "/usr/local/lib/python3.6/dist-packages/sklearn/linear_model/_logistic.py:940: ConvergenceWarning: lbfgs failed to converge (status=1):\n",
            "STOP: TOTAL NO. of ITERATIONS REACHED LIMIT.\n",
            "\n",
            "Increase the number of iterations (max_iter) or scale the data as shown in:\n",
            "    https://scikit-learn.org/stable/modules/preprocessing.html\n",
            "Please also refer to the documentation for alternative solver options:\n",
            "    https://scikit-learn.org/stable/modules/linear_model.html#logistic-regression\n",
            "  extra_warning_msg=_LOGISTIC_SOLVER_CONVERGENCE_MSG)\n",
            "/usr/local/lib/python3.6/dist-packages/sklearn/linear_model/_logistic.py:940: ConvergenceWarning: lbfgs failed to converge (status=1):\n",
            "STOP: TOTAL NO. of ITERATIONS REACHED LIMIT.\n",
            "\n",
            "Increase the number of iterations (max_iter) or scale the data as shown in:\n",
            "    https://scikit-learn.org/stable/modules/preprocessing.html\n",
            "Please also refer to the documentation for alternative solver options:\n",
            "    https://scikit-learn.org/stable/modules/linear_model.html#logistic-regression\n",
            "  extra_warning_msg=_LOGISTIC_SOLVER_CONVERGENCE_MSG)\n",
            "/usr/local/lib/python3.6/dist-packages/sklearn/linear_model/_logistic.py:940: ConvergenceWarning: lbfgs failed to converge (status=1):\n",
            "STOP: TOTAL NO. of ITERATIONS REACHED LIMIT.\n",
            "\n",
            "Increase the number of iterations (max_iter) or scale the data as shown in:\n",
            "    https://scikit-learn.org/stable/modules/preprocessing.html\n",
            "Please also refer to the documentation for alternative solver options:\n",
            "    https://scikit-learn.org/stable/modules/linear_model.html#logistic-regression\n",
            "  extra_warning_msg=_LOGISTIC_SOLVER_CONVERGENCE_MSG)\n"
          ],
          "name": "stderr"
        }
      ]
    },
    {
      "cell_type": "code",
      "metadata": {
        "colab": {
          "base_uri": "https://localhost:8080/"
        },
        "id": "OLldTRX-sIkS",
        "outputId": "68bc630f-562d-4347-f1a7-3f3e047178b5"
      },
      "source": [
        "# Select the columns that rank at 1\n",
        "rank_dict = {X[i]: rfe.ranking_[i] for i in range(len(X))}\n",
        "rev_dict = {} \n",
        "for key, value in rank_dict.items(): \n",
        "    rev_dict.setdefault(value, set()).add(key)\n",
        "result = list(filter(lambda x: len(x)>1, rev_dict.values())) \n",
        "result"
      ],
      "execution_count": null,
      "outputs": [
        {
          "output_type": "execute_result",
          "data": {
            "text/plain": [
              "[{'employee_satisfaction',\n",
              "  'ergo_issues_0',\n",
              "  'ergo_issues_1',\n",
              "  'last_performance_rating',\n",
              "  'promo_in_last_5_years_0',\n",
              "  'promo_in_last_5_years_1',\n",
              "  'salary_LARGE',\n",
              "  'workload_2',\n",
              "  'workload_3',\n",
              "  'workload_4',\n",
              "  'workload_5',\n",
              "  'workload_7'}]"
            ]
          },
          "metadata": {
            "tags": []
          },
          "execution_count": 18
        }
      ]
    },
    {
      "cell_type": "code",
      "metadata": {
        "id": "xO6CG9iD9CI8"
      },
      "source": [
        "# Set the X and Y for the model\n",
        "cols = list(result[0])\n",
        "X = df1_final[cols]\n",
        "Y = df1_final['attrit']"
      ],
      "execution_count": null,
      "outputs": []
    },
    {
      "cell_type": "markdown",
      "metadata": {
        "id": "fp-jq_cs8W4_"
      },
      "source": [
        "### Impement logistic regression model"
      ]
    },
    {
      "cell_type": "code",
      "metadata": {
        "id": "NiG55w-YVDvw"
      },
      "source": [
        "# Split the train and test data\n",
        "X_train, X_test, y_train, y_test = train_test_split(X, Y, test_size = .30,random_state=101)\n",
        "\n",
        "# Fit in model\n",
        "model = LogisticRegression()\n",
        "model.fit(X_train, y_train.values)\n",
        "\n",
        "y_pred = model.predict(X_test)\n",
        "y_prob = model.predict_proba(X_test)"
      ],
      "execution_count": null,
      "outputs": []
    },
    {
      "cell_type": "code",
      "metadata": {
        "colab": {
          "base_uri": "https://localhost:8080/",
          "height": 441
        },
        "id": "Fe0gTNvSWPjm",
        "outputId": "80bd41ba-fd4b-4e70-a8f4-7956599017b0"
      },
      "source": [
        "# Coefficient table for each selected feature\n",
        "pd.DataFrame(zip(X.columns, np.transpose(model.coef_)),columns=['features','coefficient'])"
      ],
      "execution_count": null,
      "outputs": [
        {
          "output_type": "execute_result",
          "data": {
            "text/html": [
              "<div>\n",
              "<style scoped>\n",
              "    .dataframe tbody tr th:only-of-type {\n",
              "        vertical-align: middle;\n",
              "    }\n",
              "\n",
              "    .dataframe tbody tr th {\n",
              "        vertical-align: top;\n",
              "    }\n",
              "\n",
              "    .dataframe thead th {\n",
              "        text-align: right;\n",
              "    }\n",
              "</style>\n",
              "<table border=\"1\" class=\"dataframe\">\n",
              "  <thead>\n",
              "    <tr style=\"text-align: right;\">\n",
              "      <th></th>\n",
              "      <th>features</th>\n",
              "      <th>coefficient</th>\n",
              "    </tr>\n",
              "  </thead>\n",
              "  <tbody>\n",
              "    <tr>\n",
              "      <th>0</th>\n",
              "      <td>workload_4</td>\n",
              "      <td>[-1.7072541505131114]</td>\n",
              "    </tr>\n",
              "    <tr>\n",
              "      <th>1</th>\n",
              "      <td>ergo_issues_1</td>\n",
              "      <td>[-0.6680356493144092]</td>\n",
              "    </tr>\n",
              "    <tr>\n",
              "      <th>2</th>\n",
              "      <td>last_performance_rating</td>\n",
              "      <td>[3.3017125322815453]</td>\n",
              "    </tr>\n",
              "    <tr>\n",
              "      <th>3</th>\n",
              "      <td>employee_satisfaction</td>\n",
              "      <td>[-1.991288770238297]</td>\n",
              "    </tr>\n",
              "    <tr>\n",
              "      <th>4</th>\n",
              "      <td>promo_in_last_5_years_1</td>\n",
              "      <td>[-0.6091343316623432]</td>\n",
              "    </tr>\n",
              "    <tr>\n",
              "      <th>5</th>\n",
              "      <td>workload_3</td>\n",
              "      <td>[-3.2994867909844108]</td>\n",
              "    </tr>\n",
              "    <tr>\n",
              "      <th>6</th>\n",
              "      <td>workload_7</td>\n",
              "      <td>[2.8923265085492234]</td>\n",
              "    </tr>\n",
              "    <tr>\n",
              "      <th>7</th>\n",
              "      <td>workload_5</td>\n",
              "      <td>[-0.7653575506305685]</td>\n",
              "    </tr>\n",
              "    <tr>\n",
              "      <th>8</th>\n",
              "      <td>promo_in_last_5_years_0</td>\n",
              "      <td>[0.6090737920238535]</td>\n",
              "    </tr>\n",
              "    <tr>\n",
              "      <th>9</th>\n",
              "      <td>workload_2</td>\n",
              "      <td>[1.4428377205659206]</td>\n",
              "    </tr>\n",
              "    <tr>\n",
              "      <th>10</th>\n",
              "      <td>ergo_issues_0</td>\n",
              "      <td>[0.6679751096759019]</td>\n",
              "    </tr>\n",
              "    <tr>\n",
              "      <th>11</th>\n",
              "      <td>salary_LARGE</td>\n",
              "      <td>[-1.6631336797143863]</td>\n",
              "    </tr>\n",
              "  </tbody>\n",
              "</table>\n",
              "</div>"
            ],
            "text/plain": [
              "                   features            coefficient\n",
              "0                workload_4  [-1.7072541505131114]\n",
              "1             ergo_issues_1  [-0.6680356493144092]\n",
              "2   last_performance_rating   [3.3017125322815453]\n",
              "3     employee_satisfaction   [-1.991288770238297]\n",
              "4   promo_in_last_5_years_1  [-0.6091343316623432]\n",
              "5                workload_3  [-3.2994867909844108]\n",
              "6                workload_7   [2.8923265085492234]\n",
              "7                workload_5  [-0.7653575506305685]\n",
              "8   promo_in_last_5_years_0   [0.6090737920238535]\n",
              "9                workload_2   [1.4428377205659206]\n",
              "10            ergo_issues_0   [0.6679751096759019]\n",
              "11             salary_LARGE  [-1.6631336797143863]"
            ]
          },
          "metadata": {
            "tags": []
          },
          "execution_count": 21
        }
      ]
    },
    {
      "cell_type": "markdown",
      "metadata": {
        "id": "yC6Q5mHUNFDQ"
      },
      "source": [
        "### Samples prediction"
      ]
    },
    {
      "cell_type": "code",
      "metadata": {
        "colab": {
          "base_uri": "https://localhost:8080/",
          "height": 224
        },
        "id": "uK9mFcq-TFRP",
        "outputId": "56caa5a5-41f3-4b5f-cd1e-496fcbd0f81d"
      },
      "source": [
        "# Samples of the actuals, predictions, and probabilities\n",
        "pred_df = pd.DataFrame(y_pred, columns = {'Prediction'}).set_index([pd.Index(X_test.index)])\n",
        "prob_df = pd.DataFrame(y_prob).set_index([pd.Index(X_test.index)])\n",
        "combined_df = X_test.join(y_test).join(pred_df).join(prob_df)\n",
        "combined_df.head(5)"
      ],
      "execution_count": null,
      "outputs": [
        {
          "output_type": "execute_result",
          "data": {
            "text/html": [
              "<div>\n",
              "<style scoped>\n",
              "    .dataframe tbody tr th:only-of-type {\n",
              "        vertical-align: middle;\n",
              "    }\n",
              "\n",
              "    .dataframe tbody tr th {\n",
              "        vertical-align: top;\n",
              "    }\n",
              "\n",
              "    .dataframe thead th {\n",
              "        text-align: right;\n",
              "    }\n",
              "</style>\n",
              "<table border=\"1\" class=\"dataframe\">\n",
              "  <thead>\n",
              "    <tr style=\"text-align: right;\">\n",
              "      <th></th>\n",
              "      <th>workload_4</th>\n",
              "      <th>ergo_issues_1</th>\n",
              "      <th>last_performance_rating</th>\n",
              "      <th>employee_satisfaction</th>\n",
              "      <th>promo_in_last_5_years_1</th>\n",
              "      <th>workload_3</th>\n",
              "      <th>workload_7</th>\n",
              "      <th>workload_5</th>\n",
              "      <th>promo_in_last_5_years_0</th>\n",
              "      <th>workload_2</th>\n",
              "      <th>ergo_issues_0</th>\n",
              "      <th>salary_LARGE</th>\n",
              "      <th>attrit</th>\n",
              "      <th>Prediction</th>\n",
              "      <th>0</th>\n",
              "      <th>1</th>\n",
              "    </tr>\n",
              "  </thead>\n",
              "  <tbody>\n",
              "    <tr>\n",
              "      <th>5559</th>\n",
              "      <td>0</td>\n",
              "      <td>0</td>\n",
              "      <td>0.55</td>\n",
              "      <td>0.44</td>\n",
              "      <td>0</td>\n",
              "      <td>0</td>\n",
              "      <td>0</td>\n",
              "      <td>0</td>\n",
              "      <td>1</td>\n",
              "      <td>1</td>\n",
              "      <td>1</td>\n",
              "      <td>0</td>\n",
              "      <td>1</td>\n",
              "      <td>1</td>\n",
              "      <td>0.295115</td>\n",
              "      <td>0.704885</td>\n",
              "    </tr>\n",
              "    <tr>\n",
              "      <th>10877</th>\n",
              "      <td>0</td>\n",
              "      <td>0</td>\n",
              "      <td>0.66</td>\n",
              "      <td>0.56</td>\n",
              "      <td>0</td>\n",
              "      <td>1</td>\n",
              "      <td>0</td>\n",
              "      <td>0</td>\n",
              "      <td>1</td>\n",
              "      <td>0</td>\n",
              "      <td>1</td>\n",
              "      <td>0</td>\n",
              "      <td>0</td>\n",
              "      <td>0</td>\n",
              "      <td>0.976965</td>\n",
              "      <td>0.023035</td>\n",
              "    </tr>\n",
              "    <tr>\n",
              "      <th>9344</th>\n",
              "      <td>0</td>\n",
              "      <td>0</td>\n",
              "      <td>0.92</td>\n",
              "      <td>0.11</td>\n",
              "      <td>0</td>\n",
              "      <td>0</td>\n",
              "      <td>0</td>\n",
              "      <td>0</td>\n",
              "      <td>1</td>\n",
              "      <td>0</td>\n",
              "      <td>1</td>\n",
              "      <td>0</td>\n",
              "      <td>1</td>\n",
              "      <td>1</td>\n",
              "      <td>0.213058</td>\n",
              "      <td>0.786942</td>\n",
              "    </tr>\n",
              "    <tr>\n",
              "      <th>3902</th>\n",
              "      <td>0</td>\n",
              "      <td>0</td>\n",
              "      <td>0.59</td>\n",
              "      <td>0.85</td>\n",
              "      <td>0</td>\n",
              "      <td>0</td>\n",
              "      <td>0</td>\n",
              "      <td>0</td>\n",
              "      <td>1</td>\n",
              "      <td>1</td>\n",
              "      <td>1</td>\n",
              "      <td>0</td>\n",
              "      <td>0</td>\n",
              "      <td>1</td>\n",
              "      <td>0.453557</td>\n",
              "      <td>0.546443</td>\n",
              "    </tr>\n",
              "    <tr>\n",
              "      <th>5886</th>\n",
              "      <td>1</td>\n",
              "      <td>0</td>\n",
              "      <td>0.89</td>\n",
              "      <td>0.85</td>\n",
              "      <td>0</td>\n",
              "      <td>0</td>\n",
              "      <td>0</td>\n",
              "      <td>0</td>\n",
              "      <td>1</td>\n",
              "      <td>0</td>\n",
              "      <td>1</td>\n",
              "      <td>0</td>\n",
              "      <td>0</td>\n",
              "      <td>0</td>\n",
              "      <td>0.877962</td>\n",
              "      <td>0.122038</td>\n",
              "    </tr>\n",
              "  </tbody>\n",
              "</table>\n",
              "</div>"
            ],
            "text/plain": [
              "       workload_4  ergo_issues_1  ...         0         1\n",
              "5559            0              0  ...  0.295115  0.704885\n",
              "10877           0              0  ...  0.976965  0.023035\n",
              "9344            0              0  ...  0.213058  0.786942\n",
              "3902            0              0  ...  0.453557  0.546443\n",
              "5886            1              0  ...  0.877962  0.122038\n",
              "\n",
              "[5 rows x 16 columns]"
            ]
          },
          "metadata": {
            "tags": []
          },
          "execution_count": 22
        }
      ]
    },
    {
      "cell_type": "markdown",
      "metadata": {
        "id": "qiFZzlVvZqG8"
      },
      "source": [
        "### Performance of model"
      ]
    },
    {
      "cell_type": "code",
      "metadata": {
        "colab": {
          "base_uri": "https://localhost:8080/"
        },
        "id": "KkxsiYtEXEo1",
        "outputId": "29b0716c-0f2a-4dec-9b27-972e97df2abe"
      },
      "source": [
        "# Accuracy of the model\n",
        "print('Accuracy of logistic regression prediction on test set: {:.3f}'.format(model.score(X_test, y_test)))\n",
        "print()\n",
        "\n",
        "# Classification report\n",
        "print(classification_report(y_test, y_pred))"
      ],
      "execution_count": null,
      "outputs": [
        {
          "output_type": "stream",
          "text": [
            "Accuracy of logistic regression prediction on test set: 0.865\n",
            "\n",
            "              precision    recall  f1-score   support\n",
            "\n",
            "           0       0.90      0.93      0.91      2561\n",
            "           1       0.75      0.66      0.70       814\n",
            "\n",
            "    accuracy                           0.87      3375\n",
            "   macro avg       0.82      0.79      0.81      3375\n",
            "weighted avg       0.86      0.87      0.86      3375\n",
            "\n"
          ],
          "name": "stdout"
        }
      ]
    },
    {
      "cell_type": "markdown",
      "metadata": {
        "id": "R0lPQMmzoLoF"
      },
      "source": [
        "# Logistic Regression:\n",
        "## Predict the reasons that customers are going to transact."
      ]
    },
    {
      "cell_type": "markdown",
      "metadata": {
        "id": "oNyL9jedZf5_"
      },
      "source": [
        "## EDA"
      ]
    },
    {
      "cell_type": "markdown",
      "metadata": {
        "id": "7hr6Ky0ToehG"
      },
      "source": [
        "### Acquire data"
      ]
    },
    {
      "cell_type": "code",
      "metadata": {
        "id": "6d7tU2w7nz1E"
      },
      "source": [
        "path_2 = \"https://docs.google.com/spreadsheets/d/e/2PACX-1vSzbNvy6VkpDeHgxTjzBPsA4v8FwJbLtclQscxUdngJLZ3ERLi1AjeZjeXBz5cCJQQPqLvKkDce46s5/pub?gid=1125299488&single=true&output=csv\"\n",
        "df2 = pd.read_csv(path_2,index_col='row')"
      ],
      "execution_count": null,
      "outputs": []
    },
    {
      "cell_type": "code",
      "metadata": {
        "colab": {
          "base_uri": "https://localhost:8080/",
          "height": 255
        },
        "id": "UY-t4FcZpQuG",
        "outputId": "75bb34f0-aaea-41e6-dbae-91bf0dd53bc6"
      },
      "source": [
        "df2.head()"
      ],
      "execution_count": null,
      "outputs": [
        {
          "output_type": "execute_result",
          "data": {
            "text/html": [
              "<div>\n",
              "<style scoped>\n",
              "    .dataframe tbody tr th:only-of-type {\n",
              "        vertical-align: middle;\n",
              "    }\n",
              "\n",
              "    .dataframe tbody tr th {\n",
              "        vertical-align: top;\n",
              "    }\n",
              "\n",
              "    .dataframe thead th {\n",
              "        text-align: right;\n",
              "    }\n",
              "</style>\n",
              "<table border=\"1\" class=\"dataframe\">\n",
              "  <thead>\n",
              "    <tr style=\"text-align: right;\">\n",
              "      <th></th>\n",
              "      <th>transaction</th>\n",
              "      <th>salary_usd</th>\n",
              "      <th>is_male</th>\n",
              "      <th>is_married</th>\n",
              "      <th>is_college</th>\n",
              "      <th>is_professional</th>\n",
              "      <th>is_senior</th>\n",
              "      <th>is_employed</th>\n",
              "      <th>is_single_income</th>\n",
              "      <th>children_present</th>\n",
              "      <th>is_renter</th>\n",
              "      <th>lives_in_house</th>\n",
              "      <th>is_english_primary_language</th>\n",
              "      <th>previously_disney_customer</th>\n",
              "      <th>previous_streaming_service_customer</th>\n",
              "    </tr>\n",
              "    <tr>\n",
              "      <th>row</th>\n",
              "      <th></th>\n",
              "      <th></th>\n",
              "      <th></th>\n",
              "      <th></th>\n",
              "      <th></th>\n",
              "      <th></th>\n",
              "      <th></th>\n",
              "      <th></th>\n",
              "      <th></th>\n",
              "      <th></th>\n",
              "      <th></th>\n",
              "      <th></th>\n",
              "      <th></th>\n",
              "      <th></th>\n",
              "      <th></th>\n",
              "    </tr>\n",
              "  </thead>\n",
              "  <tbody>\n",
              "    <tr>\n",
              "      <th>653</th>\n",
              "      <td>0</td>\n",
              "      <td>25000</td>\n",
              "      <td>1</td>\n",
              "      <td>0</td>\n",
              "      <td>0</td>\n",
              "      <td>0</td>\n",
              "      <td>0</td>\n",
              "      <td>0</td>\n",
              "      <td>1</td>\n",
              "      <td>0</td>\n",
              "      <td>1</td>\n",
              "      <td>0</td>\n",
              "      <td>1</td>\n",
              "      <td>0</td>\n",
              "      <td>0</td>\n",
              "    </tr>\n",
              "    <tr>\n",
              "      <th>546</th>\n",
              "      <td>0</td>\n",
              "      <td>7000</td>\n",
              "      <td>0</td>\n",
              "      <td>0</td>\n",
              "      <td>0</td>\n",
              "      <td>0</td>\n",
              "      <td>0</td>\n",
              "      <td>0</td>\n",
              "      <td>1</td>\n",
              "      <td>1</td>\n",
              "      <td>1</td>\n",
              "      <td>1</td>\n",
              "      <td>1</td>\n",
              "      <td>0</td>\n",
              "      <td>0</td>\n",
              "    </tr>\n",
              "    <tr>\n",
              "      <th>463</th>\n",
              "      <td>0</td>\n",
              "      <td>25000</td>\n",
              "      <td>1</td>\n",
              "      <td>0</td>\n",
              "      <td>0</td>\n",
              "      <td>1</td>\n",
              "      <td>0</td>\n",
              "      <td>0</td>\n",
              "      <td>1</td>\n",
              "      <td>1</td>\n",
              "      <td>1</td>\n",
              "      <td>0</td>\n",
              "      <td>1</td>\n",
              "      <td>1</td>\n",
              "      <td>0</td>\n",
              "    </tr>\n",
              "    <tr>\n",
              "      <th>93</th>\n",
              "      <td>1</td>\n",
              "      <td>124000</td>\n",
              "      <td>0</td>\n",
              "      <td>1</td>\n",
              "      <td>1</td>\n",
              "      <td>1</td>\n",
              "      <td>0</td>\n",
              "      <td>0</td>\n",
              "      <td>0</td>\n",
              "      <td>0</td>\n",
              "      <td>0</td>\n",
              "      <td>1</td>\n",
              "      <td>1</td>\n",
              "      <td>0</td>\n",
              "      <td>0</td>\n",
              "    </tr>\n",
              "    <tr>\n",
              "      <th>672</th>\n",
              "      <td>1</td>\n",
              "      <td>84000</td>\n",
              "      <td>0</td>\n",
              "      <td>1</td>\n",
              "      <td>0</td>\n",
              "      <td>1</td>\n",
              "      <td>0</td>\n",
              "      <td>0</td>\n",
              "      <td>0</td>\n",
              "      <td>1</td>\n",
              "      <td>0</td>\n",
              "      <td>1</td>\n",
              "      <td>1</td>\n",
              "      <td>0</td>\n",
              "      <td>0</td>\n",
              "    </tr>\n",
              "  </tbody>\n",
              "</table>\n",
              "</div>"
            ],
            "text/plain": [
              "     transaction  ...  previous_streaming_service_customer\n",
              "row               ...                                     \n",
              "653            0  ...                                    0\n",
              "546            0  ...                                    0\n",
              "463            0  ...                                    0\n",
              "93             1  ...                                    0\n",
              "672            1  ...                                    0\n",
              "\n",
              "[5 rows x 15 columns]"
            ]
          },
          "metadata": {
            "tags": []
          },
          "execution_count": 25
        }
      ]
    },
    {
      "cell_type": "markdown",
      "metadata": {
        "id": "_lFUDX_mZuHE"
      },
      "source": [
        "### Description of quantitative variables"
      ]
    },
    {
      "cell_type": "code",
      "metadata": {
        "colab": {
          "base_uri": "https://localhost:8080/",
          "height": 317
        },
        "id": "Sk_7qc_aZ0os",
        "outputId": "d6f24394-3b4b-4213-eac9-0c67a7ee8ac5"
      },
      "source": [
        "df2.describe()"
      ],
      "execution_count": null,
      "outputs": [
        {
          "output_type": "execute_result",
          "data": {
            "text/html": [
              "<div>\n",
              "<style scoped>\n",
              "    .dataframe tbody tr th:only-of-type {\n",
              "        vertical-align: middle;\n",
              "    }\n",
              "\n",
              "    .dataframe tbody tr th {\n",
              "        vertical-align: top;\n",
              "    }\n",
              "\n",
              "    .dataframe thead th {\n",
              "        text-align: right;\n",
              "    }\n",
              "</style>\n",
              "<table border=\"1\" class=\"dataframe\">\n",
              "  <thead>\n",
              "    <tr style=\"text-align: right;\">\n",
              "      <th></th>\n",
              "      <th>transaction</th>\n",
              "      <th>salary_usd</th>\n",
              "      <th>is_male</th>\n",
              "      <th>is_married</th>\n",
              "      <th>is_college</th>\n",
              "      <th>is_professional</th>\n",
              "      <th>is_senior</th>\n",
              "      <th>is_employed</th>\n",
              "      <th>is_single_income</th>\n",
              "      <th>children_present</th>\n",
              "      <th>is_renter</th>\n",
              "      <th>lives_in_house</th>\n",
              "      <th>is_english_primary_language</th>\n",
              "      <th>previously_disney_customer</th>\n",
              "      <th>previous_streaming_service_customer</th>\n",
              "    </tr>\n",
              "  </thead>\n",
              "  <tbody>\n",
              "    <tr>\n",
              "      <th>count</th>\n",
              "      <td>505.000000</td>\n",
              "      <td>505.000000</td>\n",
              "      <td>505.000000</td>\n",
              "      <td>505.000000</td>\n",
              "      <td>505.000000</td>\n",
              "      <td>505.000000</td>\n",
              "      <td>505.000000</td>\n",
              "      <td>505.000000</td>\n",
              "      <td>505.000000</td>\n",
              "      <td>505.000000</td>\n",
              "      <td>505.000000</td>\n",
              "      <td>505.000000</td>\n",
              "      <td>505.000000</td>\n",
              "      <td>505.000000</td>\n",
              "      <td>505.000000</td>\n",
              "    </tr>\n",
              "    <tr>\n",
              "      <th>mean</th>\n",
              "      <td>0.186139</td>\n",
              "      <td>58223.762376</td>\n",
              "      <td>0.443564</td>\n",
              "      <td>0.366337</td>\n",
              "      <td>0.308911</td>\n",
              "      <td>0.352475</td>\n",
              "      <td>0.063366</td>\n",
              "      <td>0.029703</td>\n",
              "      <td>0.762376</td>\n",
              "      <td>0.364356</td>\n",
              "      <td>0.605941</td>\n",
              "      <td>0.673267</td>\n",
              "      <td>0.900990</td>\n",
              "      <td>0.075248</td>\n",
              "      <td>0.079208</td>\n",
              "    </tr>\n",
              "    <tr>\n",
              "      <th>std</th>\n",
              "      <td>0.389604</td>\n",
              "      <td>39098.058320</td>\n",
              "      <td>0.497297</td>\n",
              "      <td>0.482281</td>\n",
              "      <td>0.462502</td>\n",
              "      <td>0.478215</td>\n",
              "      <td>0.243862</td>\n",
              "      <td>0.169935</td>\n",
              "      <td>0.426049</td>\n",
              "      <td>0.481726</td>\n",
              "      <td>0.489132</td>\n",
              "      <td>0.469484</td>\n",
              "      <td>0.298971</td>\n",
              "      <td>0.264052</td>\n",
              "      <td>0.270331</td>\n",
              "    </tr>\n",
              "    <tr>\n",
              "      <th>min</th>\n",
              "      <td>0.000000</td>\n",
              "      <td>0.000000</td>\n",
              "      <td>0.000000</td>\n",
              "      <td>0.000000</td>\n",
              "      <td>0.000000</td>\n",
              "      <td>0.000000</td>\n",
              "      <td>0.000000</td>\n",
              "      <td>0.000000</td>\n",
              "      <td>0.000000</td>\n",
              "      <td>0.000000</td>\n",
              "      <td>0.000000</td>\n",
              "      <td>0.000000</td>\n",
              "      <td>0.000000</td>\n",
              "      <td>0.000000</td>\n",
              "      <td>0.000000</td>\n",
              "    </tr>\n",
              "    <tr>\n",
              "      <th>25%</th>\n",
              "      <td>0.000000</td>\n",
              "      <td>25000.000000</td>\n",
              "      <td>0.000000</td>\n",
              "      <td>0.000000</td>\n",
              "      <td>0.000000</td>\n",
              "      <td>0.000000</td>\n",
              "      <td>0.000000</td>\n",
              "      <td>0.000000</td>\n",
              "      <td>1.000000</td>\n",
              "      <td>0.000000</td>\n",
              "      <td>0.000000</td>\n",
              "      <td>0.000000</td>\n",
              "      <td>1.000000</td>\n",
              "      <td>0.000000</td>\n",
              "      <td>0.000000</td>\n",
              "    </tr>\n",
              "    <tr>\n",
              "      <th>50%</th>\n",
              "      <td>0.000000</td>\n",
              "      <td>55000.000000</td>\n",
              "      <td>0.000000</td>\n",
              "      <td>0.000000</td>\n",
              "      <td>0.000000</td>\n",
              "      <td>0.000000</td>\n",
              "      <td>0.000000</td>\n",
              "      <td>0.000000</td>\n",
              "      <td>1.000000</td>\n",
              "      <td>0.000000</td>\n",
              "      <td>1.000000</td>\n",
              "      <td>1.000000</td>\n",
              "      <td>1.000000</td>\n",
              "      <td>0.000000</td>\n",
              "      <td>0.000000</td>\n",
              "    </tr>\n",
              "    <tr>\n",
              "      <th>75%</th>\n",
              "      <td>0.000000</td>\n",
              "      <td>86000.000000</td>\n",
              "      <td>1.000000</td>\n",
              "      <td>1.000000</td>\n",
              "      <td>1.000000</td>\n",
              "      <td>1.000000</td>\n",
              "      <td>0.000000</td>\n",
              "      <td>0.000000</td>\n",
              "      <td>1.000000</td>\n",
              "      <td>1.000000</td>\n",
              "      <td>1.000000</td>\n",
              "      <td>1.000000</td>\n",
              "      <td>1.000000</td>\n",
              "      <td>0.000000</td>\n",
              "      <td>0.000000</td>\n",
              "    </tr>\n",
              "    <tr>\n",
              "      <th>max</th>\n",
              "      <td>1.000000</td>\n",
              "      <td>124000.000000</td>\n",
              "      <td>1.000000</td>\n",
              "      <td>1.000000</td>\n",
              "      <td>1.000000</td>\n",
              "      <td>1.000000</td>\n",
              "      <td>1.000000</td>\n",
              "      <td>1.000000</td>\n",
              "      <td>1.000000</td>\n",
              "      <td>1.000000</td>\n",
              "      <td>1.000000</td>\n",
              "      <td>1.000000</td>\n",
              "      <td>1.000000</td>\n",
              "      <td>1.000000</td>\n",
              "      <td>1.000000</td>\n",
              "    </tr>\n",
              "  </tbody>\n",
              "</table>\n",
              "</div>"
            ],
            "text/plain": [
              "       transaction  ...  previous_streaming_service_customer\n",
              "count   505.000000  ...                           505.000000\n",
              "mean      0.186139  ...                             0.079208\n",
              "std       0.389604  ...                             0.270331\n",
              "min       0.000000  ...                             0.000000\n",
              "25%       0.000000  ...                             0.000000\n",
              "50%       0.000000  ...                             0.000000\n",
              "75%       0.000000  ...                             0.000000\n",
              "max       1.000000  ...                             1.000000\n",
              "\n",
              "[8 rows x 15 columns]"
            ]
          },
          "metadata": {
            "tags": []
          },
          "execution_count": 26
        }
      ]
    },
    {
      "cell_type": "markdown",
      "metadata": {
        "id": "7IiPc_dLSTfA"
      },
      "source": [
        "- Other than the target(dependent) variable, transaction, and the numerical variable, salary_usd, rest of the features are categorical variables, which are recorded as binary data type."
      ]
    },
    {
      "cell_type": "code",
      "metadata": {
        "colab": {
          "base_uri": "https://localhost:8080/"
        },
        "id": "4mN7je_XaAio",
        "outputId": "f182ce19-5e1e-4e6c-f634-bc5f7adb29fc"
      },
      "source": [
        "# Count the frequency of transcation\n",
        "df2['transaction'].value_counts()"
      ],
      "execution_count": null,
      "outputs": [
        {
          "output_type": "execute_result",
          "data": {
            "text/plain": [
              "0    411\n",
              "1     94\n",
              "Name: transaction, dtype: int64"
            ]
          },
          "metadata": {
            "tags": []
          },
          "execution_count": 27
        }
      ]
    },
    {
      "cell_type": "markdown",
      "metadata": {
        "id": "pRy13XwzUBec"
      },
      "source": [
        "- Approximately 18.6%, 94 out of 411 customers are going to have a transaction."
      ]
    },
    {
      "cell_type": "code",
      "metadata": {
        "colab": {
          "base_uri": "https://localhost:8080/",
          "height": 162
        },
        "id": "rTfaMcjHaNST",
        "outputId": "31fcc1d7-68cc-414b-ac01-d407df9e684c"
      },
      "source": [
        "# Get the mean of each feature, group by transaction\n",
        "df2.groupby('transaction').mean()"
      ],
      "execution_count": null,
      "outputs": [
        {
          "output_type": "execute_result",
          "data": {
            "text/html": [
              "<div>\n",
              "<style scoped>\n",
              "    .dataframe tbody tr th:only-of-type {\n",
              "        vertical-align: middle;\n",
              "    }\n",
              "\n",
              "    .dataframe tbody tr th {\n",
              "        vertical-align: top;\n",
              "    }\n",
              "\n",
              "    .dataframe thead th {\n",
              "        text-align: right;\n",
              "    }\n",
              "</style>\n",
              "<table border=\"1\" class=\"dataframe\">\n",
              "  <thead>\n",
              "    <tr style=\"text-align: right;\">\n",
              "      <th></th>\n",
              "      <th>salary_usd</th>\n",
              "      <th>is_male</th>\n",
              "      <th>is_married</th>\n",
              "      <th>is_college</th>\n",
              "      <th>is_professional</th>\n",
              "      <th>is_senior</th>\n",
              "      <th>is_employed</th>\n",
              "      <th>is_single_income</th>\n",
              "      <th>children_present</th>\n",
              "      <th>is_renter</th>\n",
              "      <th>lives_in_house</th>\n",
              "      <th>is_english_primary_language</th>\n",
              "      <th>previously_disney_customer</th>\n",
              "      <th>previous_streaming_service_customer</th>\n",
              "    </tr>\n",
              "    <tr>\n",
              "      <th>transaction</th>\n",
              "      <th></th>\n",
              "      <th></th>\n",
              "      <th></th>\n",
              "      <th></th>\n",
              "      <th></th>\n",
              "      <th></th>\n",
              "      <th></th>\n",
              "      <th></th>\n",
              "      <th></th>\n",
              "      <th></th>\n",
              "      <th></th>\n",
              "      <th></th>\n",
              "      <th></th>\n",
              "      <th></th>\n",
              "    </tr>\n",
              "  </thead>\n",
              "  <tbody>\n",
              "    <tr>\n",
              "      <th>0</th>\n",
              "      <td>45625.304136</td>\n",
              "      <td>0.464720</td>\n",
              "      <td>0.274939</td>\n",
              "      <td>0.257908</td>\n",
              "      <td>0.294404</td>\n",
              "      <td>0.068127</td>\n",
              "      <td>0.036496</td>\n",
              "      <td>0.829684</td>\n",
              "      <td>0.36253</td>\n",
              "      <td>0.695864</td>\n",
              "      <td>0.625304</td>\n",
              "      <td>0.883212</td>\n",
              "      <td>0.055961</td>\n",
              "      <td>0.068127</td>\n",
              "    </tr>\n",
              "    <tr>\n",
              "      <th>1</th>\n",
              "      <td>113308.510638</td>\n",
              "      <td>0.351064</td>\n",
              "      <td>0.765957</td>\n",
              "      <td>0.531915</td>\n",
              "      <td>0.606383</td>\n",
              "      <td>0.042553</td>\n",
              "      <td>0.000000</td>\n",
              "      <td>0.468085</td>\n",
              "      <td>0.37234</td>\n",
              "      <td>0.212766</td>\n",
              "      <td>0.882979</td>\n",
              "      <td>0.978723</td>\n",
              "      <td>0.159574</td>\n",
              "      <td>0.127660</td>\n",
              "    </tr>\n",
              "  </tbody>\n",
              "</table>\n",
              "</div>"
            ],
            "text/plain": [
              "                salary_usd  ...  previous_streaming_service_customer\n",
              "transaction                 ...                                     \n",
              "0             45625.304136  ...                             0.068127\n",
              "1            113308.510638  ...                             0.127660\n",
              "\n",
              "[2 rows x 14 columns]"
            ]
          },
          "metadata": {
            "tags": []
          },
          "execution_count": 28
        }
      ]
    },
    {
      "cell_type": "markdown",
      "metadata": {
        "id": "XbihFFZJUwot"
      },
      "source": [
        "- The average salary of customers who have a transaction(113,308) is much more higher than the average salary of cutomer who haven't a transaction(45,625) and the average salary of whole dataset(58,223). \n",
        "- Unexpectedly, the average of is_employed is 0 for customers who are going to transcat.\n",
        "- Not related to transaction, but we find that the average of is_english_primary_language up to 0.978, we can assume that the default language used in disney+ channel is English, but we need more information to investigate.\n"
      ]
    },
    {
      "cell_type": "code",
      "metadata": {
        "colab": {
          "base_uri": "https://localhost:8080/",
          "height": 71
        },
        "id": "15hdxigCaqno",
        "outputId": "7d8935b0-9c6b-4326-ef4d-b281a401065e"
      },
      "source": [
        "# Plot the histogram of salary_usd cut by transact\n",
        "ax = sns.displot(data = df2,x = 'salary_usd', hue='transaction')\n",
        "plt.title('Frequency of Salary_USD\\ncut by Transact')\n",
        "plt.xlabel('Salary_USD')\n",
        "plt.ylabel('Frequency')\n"
      ],
      "execution_count": null,
      "outputs": [
        {
          "output_type": "execute_result",
          "data": {
            "text/plain": [
              "Text(25.732181250000004, 0.5, 'Frequency')"
            ]
          },
          "metadata": {
            "tags": []
          },
          "execution_count": 29
        },
        {
          "output_type": "display_data",
          "data": {
            "image/png": "[encoded data removed]",
            "text/plain": [
              "<Figure size 450.45x360 with 1 Axes>"
            ]
          },
          "metadata": {
            "tags": []
          }
        }
      ]
    },
    {
      "cell_type": "markdown",
      "metadata": {
        "id": "OIRZ_S-yaCiR"
      },
      "source": [
        "## Implement Logistic Regression"
      ]
    },
    {
      "cell_type": "markdown",
      "metadata": {
        "id": "b1mW1Vcoc2L_"
      },
      "source": [
        "### Create dummy variables for categorical features"
      ]
    },
    {
      "cell_type": "code",
      "metadata": {
        "colab": {
          "base_uri": "https://localhost:8080/"
        },
        "id": "wIZ_fmHac79C",
        "outputId": "2c2de7f3-d250-4c33-a863-1a26c7401c93"
      },
      "source": [
        "# Show the column names\n",
        "list(df2.columns)"
      ],
      "execution_count": null,
      "outputs": [
        {
          "output_type": "execute_result",
          "data": {
            "text/plain": [
              "['transaction',\n",
              " 'salary_usd',\n",
              " 'is_male',\n",
              " 'is_married',\n",
              " 'is_college',\n",
              " 'is_professional',\n",
              " 'is_senior',\n",
              " 'is_employed',\n",
              " 'is_single_income',\n",
              " 'children_present',\n",
              " 'is_renter',\n",
              " 'lives_in_house',\n",
              " 'is_english_primary_language',\n",
              " 'previously_disney_customer',\n",
              " 'previous_streaming_service_customer']"
            ]
          },
          "metadata": {
            "tags": []
          },
          "execution_count": 30
        }
      ]
    },
    {
      "cell_type": "code",
      "metadata": {
        "colab": {
          "base_uri": "https://localhost:8080/"
        },
        "id": "cXrG2ivAc1bA",
        "outputId": "e47d1008-a42c-4291-f3be-835ee81689f5"
      },
      "source": [
        "# Create dummy variables for each categorical feature, then join them into df2 dataframe\n",
        "cat2_vars = df2.columns.values.tolist()\n",
        "cat2_vars.remove('transaction')\n",
        "cat2_vars.remove('salary_usd')\n",
        "for var in cat2_vars:\n",
        "    cat_list='var'+'_'+var\n",
        "    cat_list = pd.get_dummies(df2[var], prefix=var)\n",
        "    df_t=df2.join(cat_list)\n",
        "    df2=df_t\n",
        "\n",
        "# Remove the original categorical variables\n",
        "df2_vars = df2.columns.values.tolist()\n",
        "to_keep = [i for i in df2_vars if i not in cat2_vars]\n",
        "\n",
        "# Select the converted categorical variables and numerical variables as new dataframe \n",
        "df2_final=df2[to_keep]\n",
        "df2_final.columns.values"
      ],
      "execution_count": null,
      "outputs": [
        {
          "output_type": "execute_result",
          "data": {
            "text/plain": [
              "array(['transaction', 'salary_usd', 'is_male_0', 'is_male_1',\n",
              "       'is_married_0', 'is_married_1', 'is_college_0', 'is_college_1',\n",
              "       'is_professional_0', 'is_professional_1', 'is_senior_0',\n",
              "       'is_senior_1', 'is_employed_0', 'is_employed_1',\n",
              "       'is_single_income_0', 'is_single_income_1', 'children_present_0',\n",
              "       'children_present_1', 'is_renter_0', 'is_renter_1',\n",
              "       'lives_in_house_0', 'lives_in_house_1',\n",
              "       'is_english_primary_language_0', 'is_english_primary_language_1',\n",
              "       'previously_disney_customer_0', 'previously_disney_customer_1',\n",
              "       'previous_streaming_service_customer_0',\n",
              "       'previous_streaming_service_customer_1'], dtype=object)"
            ]
          },
          "metadata": {
            "tags": []
          },
          "execution_count": 31
        }
      ]
    },
    {
      "cell_type": "markdown",
      "metadata": {
        "id": "Vie2B1cNgu9y"
      },
      "source": [
        "### Feature selction"
      ]
    },
    {
      "cell_type": "code",
      "metadata": {
        "id": "ztVKQ9HDdc08"
      },
      "source": [
        "# Split X and Y for prediction\n",
        "df2_final_vars = df2_final.columns.values.tolist()\n",
        "Y = ['transaction']\n",
        "X = [i for i in df2_final_vars if i not in Y ]\n",
        "#X"
      ],
      "execution_count": null,
      "outputs": []
    },
    {
      "cell_type": "code",
      "metadata": {
        "colab": {
          "base_uri": "https://localhost:8080/"
        },
        "id": "wlzNuPyygk11",
        "outputId": "57216e33-2690-4479-a865-ba2a79c68e7f"
      },
      "source": [
        "# Decide the columns that are more significant\n",
        "model = LogisticRegression()\n",
        "rfe = RFE(model, 20)\n",
        "rfe2 = rfe.fit(df2_final[X],df2_final[Y])"
      ],
      "execution_count": null,
      "outputs": [
        {
          "output_type": "stream",
          "text": [
            "/usr/local/lib/python3.6/dist-packages/sklearn/utils/validation.py:760: DataConversionWarning: A column-vector y was passed when a 1d array was expected. Please change the shape of y to (n_samples, ), for example using ravel().\n",
            "  y = column_or_1d(y, warn=True)\n"
          ],
          "name": "stderr"
        }
      ]
    },
    {
      "cell_type": "code",
      "metadata": {
        "id": "UCpW-5cHbKN6"
      },
      "source": [
        "# Select the columns that rank at 1\n",
        "rank_dict2 = {X[i]: rfe2.ranking_[i] for i in range(len(X))}\n",
        "rev_dict2 = {} \n",
        "for key, value in rank_dict2.items(): \n",
        "    rev_dict2.setdefault(value, set()).add(key)\n",
        "result2 = list(filter(lambda x: len(x)>1, rev_dict2.values())) \n",
        "#result2"
      ],
      "execution_count": null,
      "outputs": []
    },
    {
      "cell_type": "code",
      "metadata": {
        "id": "8ItqwviHhGir"
      },
      "source": [
        "# Set the X and Y for the model\n",
        "cols = list(result2[0])\n",
        "X = df2_final[cols]\n",
        "Y = df2_final['transaction']"
      ],
      "execution_count": null,
      "outputs": []
    },
    {
      "cell_type": "markdown",
      "metadata": {
        "id": "zbejTxnahPNR"
      },
      "source": [
        "### Implement logistic regression model"
      ]
    },
    {
      "cell_type": "code",
      "metadata": {
        "colab": {
          "base_uri": "https://localhost:8080/"
        },
        "id": "su9ShPfehKy3",
        "outputId": "4b4808b2-d03c-4ce8-a91e-5de7789cab68"
      },
      "source": [
        "# Split the train and test data\n",
        "X_train, X_test, y_train, y_test = train_test_split(X, Y, test_size = .30,random_state=101)\n",
        "\n",
        "# Fit in model\n",
        "model = LogisticRegression()\n",
        "model.fit(X_train, y_train.values)\n",
        "\n",
        "y_pred = model.predict(X_test)\n",
        "y_prob = model.predict_proba(X_test)\n",
        "\n",
        "model.score(X_test, y_test)"
      ],
      "execution_count": null,
      "outputs": [
        {
          "output_type": "execute_result",
          "data": {
            "text/plain": [
              "0.8289473684210527"
            ]
          },
          "metadata": {
            "tags": []
          },
          "execution_count": 36
        }
      ]
    },
    {
      "cell_type": "markdown",
      "metadata": {
        "id": "5nygIwFjdmU7"
      },
      "source": [
        "### Sample prediction"
      ]
    },
    {
      "cell_type": "code",
      "metadata": {
        "colab": {
          "base_uri": "https://localhost:8080/",
          "height": 255
        },
        "id": "GdwWyoBHh_5C",
        "outputId": "5dea3056-8a48-4e41-934b-35cce891da95"
      },
      "source": [
        "# Samples of the actuals, predictions, and probabilities\n",
        "prediction_df = pd.DataFrame(y_pred, columns = {'Prediction'}).set_index([pd.Index(X_test.index)])\n",
        "probability_df = pd.DataFrame(model.predict_proba(X_test)).set_index([pd.Index(X_test.index)])\n",
        "combined_df = X_test.join(y_test).join(prediction_df).join(probability_df)\n",
        "combined_df.head(5)"
      ],
      "execution_count": null,
      "outputs": [
        {
          "output_type": "execute_result",
          "data": {
            "text/html": [
              "<div>\n",
              "<style scoped>\n",
              "    .dataframe tbody tr th:only-of-type {\n",
              "        vertical-align: middle;\n",
              "    }\n",
              "\n",
              "    .dataframe tbody tr th {\n",
              "        vertical-align: top;\n",
              "    }\n",
              "\n",
              "    .dataframe thead th {\n",
              "        text-align: right;\n",
              "    }\n",
              "</style>\n",
              "<table border=\"1\" class=\"dataframe\">\n",
              "  <thead>\n",
              "    <tr style=\"text-align: right;\">\n",
              "      <th></th>\n",
              "      <th>is_college_0</th>\n",
              "      <th>previous_streaming_service_customer_1</th>\n",
              "      <th>is_professional_1</th>\n",
              "      <th>is_english_primary_language_0</th>\n",
              "      <th>is_english_primary_language_1</th>\n",
              "      <th>previously_disney_customer_1</th>\n",
              "      <th>previously_disney_customer_0</th>\n",
              "      <th>is_renter_0</th>\n",
              "      <th>is_professional_0</th>\n",
              "      <th>is_employed_1</th>\n",
              "      <th>is_renter_1</th>\n",
              "      <th>lives_in_house_1</th>\n",
              "      <th>previous_streaming_service_customer_0</th>\n",
              "      <th>is_single_income_1</th>\n",
              "      <th>is_employed_0</th>\n",
              "      <th>lives_in_house_0</th>\n",
              "      <th>is_married_0</th>\n",
              "      <th>is_college_1</th>\n",
              "      <th>is_married_1</th>\n",
              "      <th>is_senior_1</th>\n",
              "      <th>transaction</th>\n",
              "      <th>Prediction</th>\n",
              "      <th>0</th>\n",
              "      <th>1</th>\n",
              "    </tr>\n",
              "    <tr>\n",
              "      <th>row</th>\n",
              "      <th></th>\n",
              "      <th></th>\n",
              "      <th></th>\n",
              "      <th></th>\n",
              "      <th></th>\n",
              "      <th></th>\n",
              "      <th></th>\n",
              "      <th></th>\n",
              "      <th></th>\n",
              "      <th></th>\n",
              "      <th></th>\n",
              "      <th></th>\n",
              "      <th></th>\n",
              "      <th></th>\n",
              "      <th></th>\n",
              "      <th></th>\n",
              "      <th></th>\n",
              "      <th></th>\n",
              "      <th></th>\n",
              "      <th></th>\n",
              "      <th></th>\n",
              "      <th></th>\n",
              "      <th></th>\n",
              "      <th></th>\n",
              "    </tr>\n",
              "  </thead>\n",
              "  <tbody>\n",
              "    <tr>\n",
              "      <th>243</th>\n",
              "      <td>1</td>\n",
              "      <td>0</td>\n",
              "      <td>0</td>\n",
              "      <td>0</td>\n",
              "      <td>1</td>\n",
              "      <td>0</td>\n",
              "      <td>1</td>\n",
              "      <td>0</td>\n",
              "      <td>1</td>\n",
              "      <td>0</td>\n",
              "      <td>1</td>\n",
              "      <td>0</td>\n",
              "      <td>1</td>\n",
              "      <td>0</td>\n",
              "      <td>1</td>\n",
              "      <td>1</td>\n",
              "      <td>1</td>\n",
              "      <td>0</td>\n",
              "      <td>0</td>\n",
              "      <td>0</td>\n",
              "      <td>0</td>\n",
              "      <td>0</td>\n",
              "      <td>0.975846</td>\n",
              "      <td>0.024154</td>\n",
              "    </tr>\n",
              "    <tr>\n",
              "      <th>667</th>\n",
              "      <td>0</td>\n",
              "      <td>0</td>\n",
              "      <td>0</td>\n",
              "      <td>0</td>\n",
              "      <td>1</td>\n",
              "      <td>0</td>\n",
              "      <td>1</td>\n",
              "      <td>1</td>\n",
              "      <td>1</td>\n",
              "      <td>0</td>\n",
              "      <td>0</td>\n",
              "      <td>1</td>\n",
              "      <td>1</td>\n",
              "      <td>1</td>\n",
              "      <td>1</td>\n",
              "      <td>0</td>\n",
              "      <td>0</td>\n",
              "      <td>1</td>\n",
              "      <td>1</td>\n",
              "      <td>1</td>\n",
              "      <td>1</td>\n",
              "      <td>0</td>\n",
              "      <td>0.786504</td>\n",
              "      <td>0.213496</td>\n",
              "    </tr>\n",
              "    <tr>\n",
              "      <th>511</th>\n",
              "      <td>1</td>\n",
              "      <td>0</td>\n",
              "      <td>1</td>\n",
              "      <td>0</td>\n",
              "      <td>1</td>\n",
              "      <td>0</td>\n",
              "      <td>1</td>\n",
              "      <td>1</td>\n",
              "      <td>0</td>\n",
              "      <td>0</td>\n",
              "      <td>0</td>\n",
              "      <td>1</td>\n",
              "      <td>1</td>\n",
              "      <td>1</td>\n",
              "      <td>1</td>\n",
              "      <td>0</td>\n",
              "      <td>1</td>\n",
              "      <td>0</td>\n",
              "      <td>0</td>\n",
              "      <td>0</td>\n",
              "      <td>0</td>\n",
              "      <td>0</td>\n",
              "      <td>0.818085</td>\n",
              "      <td>0.181915</td>\n",
              "    </tr>\n",
              "    <tr>\n",
              "      <th>672</th>\n",
              "      <td>1</td>\n",
              "      <td>0</td>\n",
              "      <td>1</td>\n",
              "      <td>0</td>\n",
              "      <td>1</td>\n",
              "      <td>0</td>\n",
              "      <td>1</td>\n",
              "      <td>1</td>\n",
              "      <td>0</td>\n",
              "      <td>0</td>\n",
              "      <td>0</td>\n",
              "      <td>1</td>\n",
              "      <td>1</td>\n",
              "      <td>0</td>\n",
              "      <td>1</td>\n",
              "      <td>0</td>\n",
              "      <td>0</td>\n",
              "      <td>0</td>\n",
              "      <td>1</td>\n",
              "      <td>0</td>\n",
              "      <td>1</td>\n",
              "      <td>1</td>\n",
              "      <td>0.466592</td>\n",
              "      <td>0.533408</td>\n",
              "    </tr>\n",
              "    <tr>\n",
              "      <th>637</th>\n",
              "      <td>1</td>\n",
              "      <td>0</td>\n",
              "      <td>0</td>\n",
              "      <td>0</td>\n",
              "      <td>1</td>\n",
              "      <td>0</td>\n",
              "      <td>1</td>\n",
              "      <td>1</td>\n",
              "      <td>1</td>\n",
              "      <td>0</td>\n",
              "      <td>0</td>\n",
              "      <td>1</td>\n",
              "      <td>1</td>\n",
              "      <td>1</td>\n",
              "      <td>1</td>\n",
              "      <td>0</td>\n",
              "      <td>0</td>\n",
              "      <td>0</td>\n",
              "      <td>1</td>\n",
              "      <td>1</td>\n",
              "      <td>0</td>\n",
              "      <td>0</td>\n",
              "      <td>0.862194</td>\n",
              "      <td>0.137806</td>\n",
              "    </tr>\n",
              "  </tbody>\n",
              "</table>\n",
              "</div>"
            ],
            "text/plain": [
              "     is_college_0  previous_streaming_service_customer_1  ...         0         1\n",
              "row                                                       ...                    \n",
              "243             1                                      0  ...  0.975846  0.024154\n",
              "667             0                                      0  ...  0.786504  0.213496\n",
              "511             1                                      0  ...  0.818085  0.181915\n",
              "672             1                                      0  ...  0.466592  0.533408\n",
              "637             1                                      0  ...  0.862194  0.137806\n",
              "\n",
              "[5 rows x 24 columns]"
            ]
          },
          "metadata": {
            "tags": []
          },
          "execution_count": 37
        }
      ]
    },
    {
      "cell_type": "markdown",
      "metadata": {
        "id": "xPVhBMUjkD1r"
      },
      "source": [
        "### Performance of model"
      ]
    },
    {
      "cell_type": "code",
      "metadata": {
        "colab": {
          "base_uri": "https://localhost:8080/"
        },
        "id": "_2bvhTwliFE7",
        "outputId": "9c618046-7462-4c02-ccfc-31617ccc6ff8"
      },
      "source": [
        "# Accuracy of the model\n",
        "print('Accuracy of logistic regression prediction on test set: {:.3f}'.format(model.score(X_test, y_test)))\n",
        "print()\n",
        "\n",
        "# Classification report\n",
        "print(classification_report(y_test, y_pred))"
      ],
      "execution_count": null,
      "outputs": [
        {
          "output_type": "stream",
          "text": [
            "Accuracy of logistic regression prediction on test set: 0.829\n",
            "\n",
            "              precision    recall  f1-score   support\n",
            "\n",
            "           0       0.85      0.95      0.90       123\n",
            "           1       0.60      0.31      0.41        29\n",
            "\n",
            "    accuracy                           0.83       152\n",
            "   macro avg       0.73      0.63      0.65       152\n",
            "weighted avg       0.81      0.83      0.81       152\n",
            "\n"
          ],
          "name": "stdout"
        }
      ]
    },
    {
      "cell_type": "markdown",
      "metadata": {
        "id": "Lx02MDjLonLa"
      },
      "source": [
        "# Regularization:(Ridge and Lasso)\n",
        "## Predict salaries for a sports player."
      ]
    },
    {
      "cell_type": "markdown",
      "metadata": {
        "id": "BT6Ep8ytpEb6"
      },
      "source": [
        "### Acquire data"
      ]
    },
    {
      "cell_type": "code",
      "metadata": {
        "colab": {
          "base_uri": "https://localhost:8080/"
        },
        "id": "v-0z26Cqn1bh",
        "outputId": "c4a48d88-5350-4fa7-9ce7-d16450a10ebf"
      },
      "source": [
        "path_3 = \"https://docs.google.com/spreadsheets/d/e/2PACX-1vSzbNvy6VkpDeHgxTjzBPsA4v8FwJbLtclQscxUdngJLZ3ERLi1AjeZjeXBz5cCJQQPqLvKkDce46s5/pub?gid=2016106659&single=true&output=csv\"\n",
        "df3 = pd.read_csv(path_3)\n",
        "df3.shape"
      ],
      "execution_count": null,
      "outputs": [
        {
          "output_type": "execute_result",
          "data": {
            "text/plain": [
              "(243, 20)"
            ]
          },
          "metadata": {
            "tags": []
          },
          "execution_count": 39
        }
      ]
    },
    {
      "cell_type": "code",
      "metadata": {
        "colab": {
          "base_uri": "https://localhost:8080/",
          "height": 224
        },
        "id": "L6m9dgf5pG6B",
        "outputId": "23b282a5-ff16-45b7-dad4-33564a581e4e"
      },
      "source": [
        "df3.head()"
      ],
      "execution_count": null,
      "outputs": [
        {
          "output_type": "execute_result",
          "data": {
            "text/html": [
              "<div>\n",
              "<style scoped>\n",
              "    .dataframe tbody tr th:only-of-type {\n",
              "        vertical-align: middle;\n",
              "    }\n",
              "\n",
              "    .dataframe tbody tr th {\n",
              "        vertical-align: top;\n",
              "    }\n",
              "\n",
              "    .dataframe thead th {\n",
              "        text-align: right;\n",
              "    }\n",
              "</style>\n",
              "<table border=\"1\" class=\"dataframe\">\n",
              "  <thead>\n",
              "    <tr style=\"text-align: right;\">\n",
              "      <th></th>\n",
              "      <th>Salary</th>\n",
              "      <th>count_at_bats</th>\n",
              "      <th>count_hits</th>\n",
              "      <th>count_home_runs</th>\n",
              "      <th>count_runs</th>\n",
              "      <th>RBI</th>\n",
              "      <th>count_walks</th>\n",
              "      <th>years_experience</th>\n",
              "      <th>cumulative_at_bats</th>\n",
              "      <th>cumulative_hits</th>\n",
              "      <th>cumulative_home_runs</th>\n",
              "      <th>cumulative_runs</th>\n",
              "      <th>cumulative_RBI</th>\n",
              "      <th>cumulative_walks</th>\n",
              "      <th>League</th>\n",
              "      <th>Division</th>\n",
              "      <th>PutOuts</th>\n",
              "      <th>Assists</th>\n",
              "      <th>Errors</th>\n",
              "      <th>NewLeague</th>\n",
              "    </tr>\n",
              "  </thead>\n",
              "  <tbody>\n",
              "    <tr>\n",
              "      <th>0</th>\n",
              "      <td>875000</td>\n",
              "      <td>457</td>\n",
              "      <td>101</td>\n",
              "      <td>14</td>\n",
              "      <td>42</td>\n",
              "      <td>63</td>\n",
              "      <td>22</td>\n",
              "      <td>17</td>\n",
              "      <td>6521</td>\n",
              "      <td>1767</td>\n",
              "      <td>281</td>\n",
              "      <td>1003</td>\n",
              "      <td>977</td>\n",
              "      <td>619</td>\n",
              "      <td>A</td>\n",
              "      <td>W</td>\n",
              "      <td>389</td>\n",
              "      <td>39</td>\n",
              "      <td>4</td>\n",
              "      <td>A</td>\n",
              "    </tr>\n",
              "    <tr>\n",
              "      <th>1</th>\n",
              "      <td>1300000</td>\n",
              "      <td>441</td>\n",
              "      <td>118</td>\n",
              "      <td>28</td>\n",
              "      <td>84</td>\n",
              "      <td>86</td>\n",
              "      <td>68</td>\n",
              "      <td>8</td>\n",
              "      <td>2723</td>\n",
              "      <td>750</td>\n",
              "      <td>126</td>\n",
              "      <td>433</td>\n",
              "      <td>420</td>\n",
              "      <td>309</td>\n",
              "      <td>A</td>\n",
              "      <td>E</td>\n",
              "      <td>190</td>\n",
              "      <td>2</td>\n",
              "      <td>2</td>\n",
              "      <td>A</td>\n",
              "    </tr>\n",
              "    <tr>\n",
              "      <th>2</th>\n",
              "      <td>940000</td>\n",
              "      <td>593</td>\n",
              "      <td>152</td>\n",
              "      <td>23</td>\n",
              "      <td>69</td>\n",
              "      <td>75</td>\n",
              "      <td>53</td>\n",
              "      <td>6</td>\n",
              "      <td>2765</td>\n",
              "      <td>686</td>\n",
              "      <td>133</td>\n",
              "      <td>369</td>\n",
              "      <td>384</td>\n",
              "      <td>321</td>\n",
              "      <td>A</td>\n",
              "      <td>W</td>\n",
              "      <td>315</td>\n",
              "      <td>10</td>\n",
              "      <td>6</td>\n",
              "      <td>A</td>\n",
              "    </tr>\n",
              "    <tr>\n",
              "      <th>3</th>\n",
              "      <td>70000</td>\n",
              "      <td>312</td>\n",
              "      <td>68</td>\n",
              "      <td>2</td>\n",
              "      <td>32</td>\n",
              "      <td>22</td>\n",
              "      <td>24</td>\n",
              "      <td>1</td>\n",
              "      <td>312</td>\n",
              "      <td>68</td>\n",
              "      <td>2</td>\n",
              "      <td>32</td>\n",
              "      <td>22</td>\n",
              "      <td>24</td>\n",
              "      <td>A</td>\n",
              "      <td>E</td>\n",
              "      <td>86</td>\n",
              "      <td>150</td>\n",
              "      <td>15</td>\n",
              "      <td>A</td>\n",
              "    </tr>\n",
              "    <tr>\n",
              "      <th>4</th>\n",
              "      <td>815000</td>\n",
              "      <td>526</td>\n",
              "      <td>146</td>\n",
              "      <td>13</td>\n",
              "      <td>71</td>\n",
              "      <td>70</td>\n",
              "      <td>84</td>\n",
              "      <td>6</td>\n",
              "      <td>2648</td>\n",
              "      <td>715</td>\n",
              "      <td>77</td>\n",
              "      <td>352</td>\n",
              "      <td>342</td>\n",
              "      <td>289</td>\n",
              "      <td>N</td>\n",
              "      <td>W</td>\n",
              "      <td>303</td>\n",
              "      <td>9</td>\n",
              "      <td>9</td>\n",
              "      <td>N</td>\n",
              "    </tr>\n",
              "  </tbody>\n",
              "</table>\n",
              "</div>"
            ],
            "text/plain": [
              "    Salary  count_at_bats  count_hits  ...  Assists  Errors  NewLeague\n",
              "0   875000            457         101  ...       39       4          A\n",
              "1  1300000            441         118  ...        2       2          A\n",
              "2   940000            593         152  ...       10       6          A\n",
              "3    70000            312          68  ...      150      15          A\n",
              "4   815000            526         146  ...        9       9          N\n",
              "\n",
              "[5 rows x 20 columns]"
            ]
          },
          "metadata": {
            "tags": []
          },
          "execution_count": 40
        }
      ]
    },
    {
      "cell_type": "markdown",
      "metadata": {
        "id": "HehEees5fSwz"
      },
      "source": [
        "### Description of quantitative variables"
      ]
    },
    {
      "cell_type": "code",
      "metadata": {
        "colab": {
          "base_uri": "https://localhost:8080/",
          "height": 317
        },
        "id": "ms-AoYBZTXD5",
        "outputId": "fe472661-d93a-4e06-9aa9-f053bd090e58"
      },
      "source": [
        "df3.describe()"
      ],
      "execution_count": null,
      "outputs": [
        {
          "output_type": "execute_result",
          "data": {
            "text/html": [
              "<div>\n",
              "<style scoped>\n",
              "    .dataframe tbody tr th:only-of-type {\n",
              "        vertical-align: middle;\n",
              "    }\n",
              "\n",
              "    .dataframe tbody tr th {\n",
              "        vertical-align: top;\n",
              "    }\n",
              "\n",
              "    .dataframe thead th {\n",
              "        text-align: right;\n",
              "    }\n",
              "</style>\n",
              "<table border=\"1\" class=\"dataframe\">\n",
              "  <thead>\n",
              "    <tr style=\"text-align: right;\">\n",
              "      <th></th>\n",
              "      <th>Salary</th>\n",
              "      <th>count_at_bats</th>\n",
              "      <th>count_hits</th>\n",
              "      <th>count_home_runs</th>\n",
              "      <th>count_runs</th>\n",
              "      <th>RBI</th>\n",
              "      <th>count_walks</th>\n",
              "      <th>years_experience</th>\n",
              "      <th>cumulative_at_bats</th>\n",
              "      <th>cumulative_hits</th>\n",
              "      <th>cumulative_home_runs</th>\n",
              "      <th>cumulative_runs</th>\n",
              "      <th>cumulative_RBI</th>\n",
              "      <th>cumulative_walks</th>\n",
              "      <th>PutOuts</th>\n",
              "      <th>Assists</th>\n",
              "      <th>Errors</th>\n",
              "    </tr>\n",
              "  </thead>\n",
              "  <tbody>\n",
              "    <tr>\n",
              "      <th>count</th>\n",
              "      <td>2.430000e+02</td>\n",
              "      <td>243.000000</td>\n",
              "      <td>243.000000</td>\n",
              "      <td>243.000000</td>\n",
              "      <td>243.000000</td>\n",
              "      <td>243.000000</td>\n",
              "      <td>243.000000</td>\n",
              "      <td>243.000000</td>\n",
              "      <td>243.000000</td>\n",
              "      <td>243.000000</td>\n",
              "      <td>243.000000</td>\n",
              "      <td>243.000000</td>\n",
              "      <td>243.000000</td>\n",
              "      <td>243.000000</td>\n",
              "      <td>243.000000</td>\n",
              "      <td>243.000000</td>\n",
              "      <td>243.000000</td>\n",
              "    </tr>\n",
              "    <tr>\n",
              "      <th>mean</th>\n",
              "      <td>3.964856e+05</td>\n",
              "      <td>377.621399</td>\n",
              "      <td>99.975309</td>\n",
              "      <td>10.666667</td>\n",
              "      <td>50.123457</td>\n",
              "      <td>47.362140</td>\n",
              "      <td>38.115226</td>\n",
              "      <td>7.473251</td>\n",
              "      <td>2654.497942</td>\n",
              "      <td>717.703704</td>\n",
              "      <td>71.831276</td>\n",
              "      <td>362.061728</td>\n",
              "      <td>332.069959</td>\n",
              "      <td>263.711934</td>\n",
              "      <td>284.263374</td>\n",
              "      <td>102.781893</td>\n",
              "      <td>7.629630</td>\n",
              "    </tr>\n",
              "    <tr>\n",
              "      <th>std</th>\n",
              "      <td>4.205241e+05</td>\n",
              "      <td>151.221516</td>\n",
              "      <td>45.997478</td>\n",
              "      <td>8.449656</td>\n",
              "      <td>25.186109</td>\n",
              "      <td>25.642821</td>\n",
              "      <td>21.239171</td>\n",
              "      <td>5.018386</td>\n",
              "      <td>2344.518332</td>\n",
              "      <td>657.431235</td>\n",
              "      <td>88.616130</td>\n",
              "      <td>337.841166</td>\n",
              "      <td>333.997166</td>\n",
              "      <td>277.955388</td>\n",
              "      <td>275.126756</td>\n",
              "      <td>134.263086</td>\n",
              "      <td>6.244557</td>\n",
              "    </tr>\n",
              "    <tr>\n",
              "      <th>min</th>\n",
              "      <td>0.000000e+00</td>\n",
              "      <td>16.000000</td>\n",
              "      <td>2.000000</td>\n",
              "      <td>0.000000</td>\n",
              "      <td>1.000000</td>\n",
              "      <td>0.000000</td>\n",
              "      <td>0.000000</td>\n",
              "      <td>1.000000</td>\n",
              "      <td>19.000000</td>\n",
              "      <td>4.000000</td>\n",
              "      <td>0.000000</td>\n",
              "      <td>1.000000</td>\n",
              "      <td>0.000000</td>\n",
              "      <td>0.000000</td>\n",
              "      <td>0.000000</td>\n",
              "      <td>0.000000</td>\n",
              "      <td>0.000000</td>\n",
              "    </tr>\n",
              "    <tr>\n",
              "      <th>25%</th>\n",
              "      <td>7.000000e+04</td>\n",
              "      <td>255.500000</td>\n",
              "      <td>64.000000</td>\n",
              "      <td>4.000000</td>\n",
              "      <td>31.000000</td>\n",
              "      <td>29.000000</td>\n",
              "      <td>22.000000</td>\n",
              "      <td>4.000000</td>\n",
              "      <td>826.500000</td>\n",
              "      <td>209.500000</td>\n",
              "      <td>14.000000</td>\n",
              "      <td>100.500000</td>\n",
              "      <td>91.500000</td>\n",
              "      <td>66.500000</td>\n",
              "      <td>113.500000</td>\n",
              "      <td>6.500000</td>\n",
              "      <td>3.000000</td>\n",
              "    </tr>\n",
              "    <tr>\n",
              "      <th>50%</th>\n",
              "      <td>2.500000e+05</td>\n",
              "      <td>360.000000</td>\n",
              "      <td>95.000000</td>\n",
              "      <td>8.000000</td>\n",
              "      <td>48.000000</td>\n",
              "      <td>44.000000</td>\n",
              "      <td>34.000000</td>\n",
              "      <td>6.000000</td>\n",
              "      <td>1931.000000</td>\n",
              "      <td>510.000000</td>\n",
              "      <td>39.000000</td>\n",
              "      <td>258.000000</td>\n",
              "      <td>230.000000</td>\n",
              "      <td>174.000000</td>\n",
              "      <td>211.000000</td>\n",
              "      <td>33.000000</td>\n",
              "      <td>6.000000</td>\n",
              "    </tr>\n",
              "    <tr>\n",
              "      <th>75%</th>\n",
              "      <td>6.665000e+05</td>\n",
              "      <td>511.000000</td>\n",
              "      <td>136.000000</td>\n",
              "      <td>16.000000</td>\n",
              "      <td>68.500000</td>\n",
              "      <td>63.500000</td>\n",
              "      <td>52.000000</td>\n",
              "      <td>11.000000</td>\n",
              "      <td>3890.500000</td>\n",
              "      <td>1037.500000</td>\n",
              "      <td>93.000000</td>\n",
              "      <td>523.500000</td>\n",
              "      <td>424.500000</td>\n",
              "      <td>329.500000</td>\n",
              "      <td>322.500000</td>\n",
              "      <td>151.500000</td>\n",
              "      <td>10.000000</td>\n",
              "    </tr>\n",
              "    <tr>\n",
              "      <th>max</th>\n",
              "      <td>1.975000e+06</td>\n",
              "      <td>687.000000</td>\n",
              "      <td>238.000000</td>\n",
              "      <td>40.000000</td>\n",
              "      <td>117.000000</td>\n",
              "      <td>121.000000</td>\n",
              "      <td>105.000000</td>\n",
              "      <td>24.000000</td>\n",
              "      <td>14053.000000</td>\n",
              "      <td>4256.000000</td>\n",
              "      <td>548.000000</td>\n",
              "      <td>2165.000000</td>\n",
              "      <td>1659.000000</td>\n",
              "      <td>1566.000000</td>\n",
              "      <td>1378.000000</td>\n",
              "      <td>492.000000</td>\n",
              "      <td>32.000000</td>\n",
              "    </tr>\n",
              "  </tbody>\n",
              "</table>\n",
              "</div>"
            ],
            "text/plain": [
              "             Salary  count_at_bats  ...     Assists      Errors\n",
              "count  2.430000e+02     243.000000  ...  243.000000  243.000000\n",
              "mean   3.964856e+05     377.621399  ...  102.781893    7.629630\n",
              "std    4.205241e+05     151.221516  ...  134.263086    6.244557\n",
              "min    0.000000e+00      16.000000  ...    0.000000    0.000000\n",
              "25%    7.000000e+04     255.500000  ...    6.500000    3.000000\n",
              "50%    2.500000e+05     360.000000  ...   33.000000    6.000000\n",
              "75%    6.665000e+05     511.000000  ...  151.500000   10.000000\n",
              "max    1.975000e+06     687.000000  ...  492.000000   32.000000\n",
              "\n",
              "[8 rows x 17 columns]"
            ]
          },
          "metadata": {
            "tags": []
          },
          "execution_count": 41
        }
      ]
    },
    {
      "cell_type": "markdown",
      "metadata": {
        "id": "0n-PfdWvfct-"
      },
      "source": [
        "- There is an zero in the Salary, which should not be considered in the dataframe, that we can drop the records have zero in Salary column."
      ]
    },
    {
      "cell_type": "code",
      "metadata": {
        "colab": {
          "base_uri": "https://localhost:8080/"
        },
        "id": "nrf7WjQ7fd2U",
        "outputId": "be309df1-83e5-4717-91e0-652b85b21ea9"
      },
      "source": [
        "# drop the records that hold the value of 0 in Salary column\n",
        "df3 = df3.loc[df3['Salary']!=0]\n",
        "df3.shape"
      ],
      "execution_count": null,
      "outputs": [
        {
          "output_type": "execute_result",
          "data": {
            "text/plain": [
              "(184, 20)"
            ]
          },
          "metadata": {
            "tags": []
          },
          "execution_count": 42
        }
      ]
    },
    {
      "cell_type": "markdown",
      "metadata": {
        "id": "Ye25-WDOkbL8"
      },
      "source": [
        "### Create dummies varialbes"
      ]
    },
    {
      "cell_type": "code",
      "metadata": {
        "id": "WsG6jraLzEkb"
      },
      "source": [
        "# Create dummy variables for each categorical feature, then join them into df2 dataframe\n",
        "cat3_vars = ['League','Division','NewLeague']\n",
        "for var in cat3_vars:\n",
        "    cat_list='var'+'_'+var\n",
        "    cat_list = pd.get_dummies(df3[var], prefix=var)\n",
        "    df_t=df3.join(cat_list)\n",
        "    df3=df_t\n",
        "\n",
        "# Remove the original categorical variables\n",
        "df3_vars = df3.columns.values.tolist()\n",
        "to_keep = [i for i in df3_vars if i not in cat3_vars]\n",
        "\n",
        "# Select the converted categorical variables and numerical variables as new dataframe \n",
        "df3_final = df3[to_keep]\n",
        "#df3_final.columns.values"
      ],
      "execution_count": null,
      "outputs": []
    },
    {
      "cell_type": "code",
      "metadata": {
        "id": "UnZDe7EUnmfe"
      },
      "source": [
        "# Split X and Y for prediction\n",
        "df3_final_vars = df3_final.columns.values.tolist()\n",
        "y_col = ['Salary']\n",
        "x_col = [i for i in df3_final_vars if i not in y_col ]\n",
        "\n",
        "X = df3_final[x_col]\n",
        "Y = df3_final[y_col]\n",
        "#list(X.columns)"
      ],
      "execution_count": null,
      "outputs": []
    },
    {
      "cell_type": "markdown",
      "metadata": {
        "id": "VkfwY7qGh4Ir"
      },
      "source": [
        "### Split the train and test datasets"
      ]
    },
    {
      "cell_type": "code",
      "metadata": {
        "id": "t2hW_7cBBmUm"
      },
      "source": [
        "# Split data into training and test sets\n",
        "X_train, X_test , y_train, y_test = train_test_split(X, Y, test_size = 0.3, random_state = 33)"
      ],
      "execution_count": null,
      "outputs": []
    },
    {
      "cell_type": "markdown",
      "metadata": {
        "id": "WyBfK0qVIUsp"
      },
      "source": [
        "### Ridge"
      ]
    },
    {
      "cell_type": "code",
      "metadata": {
        "colab": {
          "base_uri": "https://localhost:8080/",
          "height": 379
        },
        "id": "gwfRzP38Blpt",
        "outputId": "8babcdb8-da6d-40dd-d306-ac85de704cda"
      },
      "source": [
        "# Set a list of alpha\n",
        "alphas = np.logspace(-7,2,10)\n",
        "\n",
        "#col = ['SSE','AIC','MSE','R^2']\n",
        "col = ['MSE','RMSE','R^2','SSE','AIC'] + ['coef_'+i for i in x_col]\n",
        "ind = ['alpha_%.2g'%alphas[i] for i in range(len(alphas))]\n",
        "ridge_matrix = pd.DataFrame(index=ind, columns=col)\n",
        "\n",
        "for i in range(len(alphas)):\n",
        "  ridge = Ridge(alpha = alphas[i],normalize=True)\n",
        "  ridge.fit(X_train,y_train)\n",
        "  y_pred = ridge.predict(X_test)\n",
        "  mse = mean_squared_error(y_test,y_pred)\n",
        "  rmse = np.sqrt(mse)\n",
        "  r2 = r2_score(y_test,y_pred)\n",
        "  sse = sum(((y_pred-y_test)**2)['Salary'].values)\n",
        "  # aic = n*log(sse/n)+2(k+1), k = number of predictor, k+1 = include intercept\n",
        "  aic = len(df3_final)*np.log(sse/len(df3_final)) + 2*(len(df3_final.columns))\n",
        "  ret = [mse]\n",
        "  ret.extend([rmse])\n",
        "  ret.extend([r2])\n",
        "  ret.extend([sse])\n",
        "  ret.extend([aic])\n",
        "  ret.extend(ridge.coef_[0])\n",
        "  ridge_matrix.iloc[i,] = ret\n",
        "\n",
        "ridge_matrix"
      ],
      "execution_count": null,
      "outputs": [
        {
          "output_type": "execute_result",
          "data": {
            "text/html": [
              "<div>\n",
              "<style scoped>\n",
              "    .dataframe tbody tr th:only-of-type {\n",
              "        vertical-align: middle;\n",
              "    }\n",
              "\n",
              "    .dataframe tbody tr th {\n",
              "        vertical-align: top;\n",
              "    }\n",
              "\n",
              "    .dataframe thead th {\n",
              "        text-align: right;\n",
              "    }\n",
              "</style>\n",
              "<table border=\"1\" class=\"dataframe\">\n",
              "  <thead>\n",
              "    <tr style=\"text-align: right;\">\n",
              "      <th></th>\n",
              "      <th>MSE</th>\n",
              "      <th>RMSE</th>\n",
              "      <th>R^2</th>\n",
              "      <th>SSE</th>\n",
              "      <th>AIC</th>\n",
              "      <th>coef_count_at_bats</th>\n",
              "      <th>coef_count_hits</th>\n",
              "      <th>coef_count_home_runs</th>\n",
              "      <th>coef_count_runs</th>\n",
              "      <th>coef_RBI</th>\n",
              "      <th>coef_count_walks</th>\n",
              "      <th>coef_years_experience</th>\n",
              "      <th>coef_cumulative_at_bats</th>\n",
              "      <th>coef_cumulative_hits</th>\n",
              "      <th>coef_cumulative_home_runs</th>\n",
              "      <th>coef_cumulative_runs</th>\n",
              "      <th>coef_cumulative_RBI</th>\n",
              "      <th>coef_cumulative_walks</th>\n",
              "      <th>coef_PutOuts</th>\n",
              "      <th>coef_Assists</th>\n",
              "      <th>coef_Errors</th>\n",
              "      <th>coef_League_A</th>\n",
              "      <th>coef_League_N</th>\n",
              "      <th>coef_Division_E</th>\n",
              "      <th>coef_Division_W</th>\n",
              "      <th>coef_NewLeague_A</th>\n",
              "      <th>coef_NewLeague_N</th>\n",
              "    </tr>\n",
              "  </thead>\n",
              "  <tbody>\n",
              "    <tr>\n",
              "      <th>alpha_1e-07</th>\n",
              "      <td>1.1302e+11</td>\n",
              "      <td>336185</td>\n",
              "      <td>0.506064</td>\n",
              "      <td>6.32914e+12</td>\n",
              "      <td>4510.07</td>\n",
              "      <td>-1059.3</td>\n",
              "      <td>5629.58</td>\n",
              "      <td>11759.6</td>\n",
              "      <td>-1950.5</td>\n",
              "      <td>-3179.17</td>\n",
              "      <td>7527.36</td>\n",
              "      <td>12727.3</td>\n",
              "      <td>-158.97</td>\n",
              "      <td>119.741</td>\n",
              "      <td>-1557.09</td>\n",
              "      <td>1276.78</td>\n",
              "      <td>960.46</td>\n",
              "      <td>-954.096</td>\n",
              "      <td>128.619</td>\n",
              "      <td>170.51</td>\n",
              "      <td>164.357</td>\n",
              "      <td>-12043.8</td>\n",
              "      <td>12043.8</td>\n",
              "      <td>44102.5</td>\n",
              "      <td>-44102.5</td>\n",
              "      <td>14147.8</td>\n",
              "      <td>-14147.8</td>\n",
              "    </tr>\n",
              "    <tr>\n",
              "      <th>alpha_1e-06</th>\n",
              "      <td>1.13022e+11</td>\n",
              "      <td>336188</td>\n",
              "      <td>0.506056</td>\n",
              "      <td>6.32925e+12</td>\n",
              "      <td>4510.07</td>\n",
              "      <td>-1059.31</td>\n",
              "      <td>5629.32</td>\n",
              "      <td>11757.9</td>\n",
              "      <td>-1949.85</td>\n",
              "      <td>-3178.62</td>\n",
              "      <td>7527.06</td>\n",
              "      <td>12723.3</td>\n",
              "      <td>-158.91</td>\n",
              "      <td>119.86</td>\n",
              "      <td>-1556.32</td>\n",
              "      <td>1276.32</td>\n",
              "      <td>960.067</td>\n",
              "      <td>-953.994</td>\n",
              "      <td>128.62</td>\n",
              "      <td>170.482</td>\n",
              "      <td>163.922</td>\n",
              "      <td>-12043.6</td>\n",
              "      <td>12043.6</td>\n",
              "      <td>44102.8</td>\n",
              "      <td>-44102.8</td>\n",
              "      <td>14149.7</td>\n",
              "      <td>-14149.7</td>\n",
              "    </tr>\n",
              "    <tr>\n",
              "      <th>alpha_1e-05</th>\n",
              "      <td>1.13042e+11</td>\n",
              "      <td>336217</td>\n",
              "      <td>0.505969</td>\n",
              "      <td>6.33035e+12</td>\n",
              "      <td>4510.11</td>\n",
              "      <td>-1059.38</td>\n",
              "      <td>5626.71</td>\n",
              "      <td>11741.1</td>\n",
              "      <td>-1943.47</td>\n",
              "      <td>-3173.11</td>\n",
              "      <td>7524.11</td>\n",
              "      <td>12683</td>\n",
              "      <td>-158.321</td>\n",
              "      <td>121.036</td>\n",
              "      <td>-1548.61</td>\n",
              "      <td>1271.73</td>\n",
              "      <td>956.158</td>\n",
              "      <td>-952.984</td>\n",
              "      <td>128.63</td>\n",
              "      <td>170.208</td>\n",
              "      <td>159.598</td>\n",
              "      <td>-12040.8</td>\n",
              "      <td>12040.8</td>\n",
              "      <td>44106.4</td>\n",
              "      <td>-44106.4</td>\n",
              "      <td>14168.2</td>\n",
              "      <td>-14168.2</td>\n",
              "    </tr>\n",
              "    <tr>\n",
              "      <th>alpha_0.0001</th>\n",
              "      <td>1.13238e+11</td>\n",
              "      <td>336508</td>\n",
              "      <td>0.505115</td>\n",
              "      <td>6.34131e+12</td>\n",
              "      <td>4510.42</td>\n",
              "      <td>-1060</td>\n",
              "      <td>5602.24</td>\n",
              "      <td>11581.5</td>\n",
              "      <td>-1883.13</td>\n",
              "      <td>-3120.87</td>\n",
              "      <td>7496.09</td>\n",
              "      <td>12292.6</td>\n",
              "      <td>-152.545</td>\n",
              "      <td>131.559</td>\n",
              "      <td>-1476.12</td>\n",
              "      <td>1228.33</td>\n",
              "      <td>919.207</td>\n",
              "      <td>-943.437</td>\n",
              "      <td>128.738</td>\n",
              "      <td>167.516</td>\n",
              "      <td>118.684</td>\n",
              "      <td>-12007.4</td>\n",
              "      <td>12007.4</td>\n",
              "      <td>44140.9</td>\n",
              "      <td>-44140.9</td>\n",
              "      <td>14337.3</td>\n",
              "      <td>-14337.3</td>\n",
              "    </tr>\n",
              "    <tr>\n",
              "      <th>alpha_0.001</th>\n",
              "      <td>1.14946e+11</td>\n",
              "      <td>339036</td>\n",
              "      <td>0.49765</td>\n",
              "      <td>6.43696e+12</td>\n",
              "      <td>4513.18</td>\n",
              "      <td>-1058.17</td>\n",
              "      <td>5427.72</td>\n",
              "      <td>10481.4</td>\n",
              "      <td>-1474.66</td>\n",
              "      <td>-2764.94</td>\n",
              "      <td>7292.67</td>\n",
              "      <td>9412.78</td>\n",
              "      <td>-107.702</td>\n",
              "      <td>178.901</td>\n",
              "      <td>-1019.53</td>\n",
              "      <td>941.888</td>\n",
              "      <td>679.187</td>\n",
              "      <td>-878.71</td>\n",
              "      <td>129.899</td>\n",
              "      <td>145.888</td>\n",
              "      <td>-152.904</td>\n",
              "      <td>-11531.5</td>\n",
              "      <td>11531.5</td>\n",
              "      <td>44422.4</td>\n",
              "      <td>-44422.4</td>\n",
              "      <td>15172.9</td>\n",
              "      <td>-15172.9</td>\n",
              "    </tr>\n",
              "    <tr>\n",
              "      <th>alpha_0.01</th>\n",
              "      <td>1.2125e+11</td>\n",
              "      <td>348210</td>\n",
              "      <td>0.470098</td>\n",
              "      <td>6.78999e+12</td>\n",
              "      <td>4523</td>\n",
              "      <td>-826.132</td>\n",
              "      <td>4323.17</td>\n",
              "      <td>7371.12</td>\n",
              "      <td>-205.204</td>\n",
              "      <td>-1728.58</td>\n",
              "      <td>6320.2</td>\n",
              "      <td>3844.81</td>\n",
              "      <td>-8.99172</td>\n",
              "      <td>194.746</td>\n",
              "      <td>-338.435</td>\n",
              "      <td>373.238</td>\n",
              "      <td>272.87</td>\n",
              "      <td>-664.694</td>\n",
              "      <td>132.582</td>\n",
              "      <td>77.2135</td>\n",
              "      <td>-760.31</td>\n",
              "      <td>-10183.8</td>\n",
              "      <td>10183.8</td>\n",
              "      <td>45045.1</td>\n",
              "      <td>-45045.1</td>\n",
              "      <td>13880.6</td>\n",
              "      <td>-13880.6</td>\n",
              "    </tr>\n",
              "    <tr>\n",
              "      <th>alpha_0.1</th>\n",
              "      <td>1.29671e+11</td>\n",
              "      <td>360098</td>\n",
              "      <td>0.433297</td>\n",
              "      <td>7.26155e+12</td>\n",
              "      <td>4535.36</td>\n",
              "      <td>-93.5957</td>\n",
              "      <td>1914.28</td>\n",
              "      <td>2721.81</td>\n",
              "      <td>1390.54</td>\n",
              "      <td>71.5469</td>\n",
              "      <td>3635.41</td>\n",
              "      <td>4689.85</td>\n",
              "      <td>16.2276</td>\n",
              "      <td>110.937</td>\n",
              "      <td>-195.221</td>\n",
              "      <td>129.81</td>\n",
              "      <td>114.738</td>\n",
              "      <td>-224.136</td>\n",
              "      <td>138.119</td>\n",
              "      <td>-5.14803</td>\n",
              "      <td>-1137.64</td>\n",
              "      <td>-8963.24</td>\n",
              "      <td>8963.24</td>\n",
              "      <td>42536</td>\n",
              "      <td>-42536</td>\n",
              "      <td>4909.93</td>\n",
              "      <td>-4909.93</td>\n",
              "    </tr>\n",
              "    <tr>\n",
              "      <th>alpha_1</th>\n",
              "      <td>1.39212e+11</td>\n",
              "      <td>373111</td>\n",
              "      <td>0.391598</td>\n",
              "      <td>7.79587e+12</td>\n",
              "      <td>4548.42</td>\n",
              "      <td>177.83</td>\n",
              "      <td>885.794</td>\n",
              "      <td>1652.5</td>\n",
              "      <td>1375.88</td>\n",
              "      <td>798.725</td>\n",
              "      <td>1653.5</td>\n",
              "      <td>3861.44</td>\n",
              "      <td>10.6343</td>\n",
              "      <td>46.3538</td>\n",
              "      <td>74.085</td>\n",
              "      <td>74.1498</td>\n",
              "      <td>63.0137</td>\n",
              "      <td>20.9769</td>\n",
              "      <td>102.022</td>\n",
              "      <td>2.15363</td>\n",
              "      <td>-373.51</td>\n",
              "      <td>-1867.69</td>\n",
              "      <td>1867.69</td>\n",
              "      <td>29345.2</td>\n",
              "      <td>-29345.2</td>\n",
              "      <td>-861.65</td>\n",
              "      <td>861.65</td>\n",
              "    </tr>\n",
              "    <tr>\n",
              "      <th>alpha_10</th>\n",
              "      <td>1.83102e+11</td>\n",
              "      <td>427904</td>\n",
              "      <td>0.199784</td>\n",
              "      <td>1.02537e+13</td>\n",
              "      <td>4598.85</td>\n",
              "      <td>82.7273</td>\n",
              "      <td>294.604</td>\n",
              "      <td>1010.54</td>\n",
              "      <td>516.35</td>\n",
              "      <td>435.397</td>\n",
              "      <td>551.914</td>\n",
              "      <td>1751.47</td>\n",
              "      <td>4.52206</td>\n",
              "      <td>17.0673</td>\n",
              "      <td>93.3151</td>\n",
              "      <td>31.6091</td>\n",
              "      <td>31.4177</td>\n",
              "      <td>27.6871</td>\n",
              "      <td>30.8198</td>\n",
              "      <td>8.30495</td>\n",
              "      <td>61.3971</td>\n",
              "      <td>2751.51</td>\n",
              "      <td>-2751.51</td>\n",
              "      <td>7166.9</td>\n",
              "      <td>-7166.9</td>\n",
              "      <td>2116.57</td>\n",
              "      <td>-2116.57</td>\n",
              "    </tr>\n",
              "    <tr>\n",
              "      <th>alpha_1e+02</th>\n",
              "      <td>2.28428e+11</td>\n",
              "      <td>477942</td>\n",
              "      <td>0.00169297</td>\n",
              "      <td>1.2792e+13</td>\n",
              "      <td>4639.54</td>\n",
              "      <td>12.3521</td>\n",
              "      <td>42.0087</td>\n",
              "      <td>163.068</td>\n",
              "      <td>75.0828</td>\n",
              "      <td>67.9227</td>\n",
              "      <td>80.6013</td>\n",
              "      <td>287.11</td>\n",
              "      <td>0.723157</td>\n",
              "      <td>2.66687</td>\n",
              "      <td>16.5347</td>\n",
              "      <td>5.04859</td>\n",
              "      <td>5.16559</td>\n",
              "      <td>4.84182</td>\n",
              "      <td>4.22499</td>\n",
              "      <td>1.25882</td>\n",
              "      <td>8.64075</td>\n",
              "      <td>652.558</td>\n",
              "      <td>-652.558</td>\n",
              "      <td>800.037</td>\n",
              "      <td>-800.037</td>\n",
              "      <td>550.456</td>\n",
              "      <td>-550.456</td>\n",
              "    </tr>\n",
              "  </tbody>\n",
              "</table>\n",
              "</div>"
            ],
            "text/plain": [
              "                      MSE    RMSE  ... coef_NewLeague_A coef_NewLeague_N\n",
              "alpha_1e-07    1.1302e+11  336185  ...          14147.8         -14147.8\n",
              "alpha_1e-06   1.13022e+11  336188  ...          14149.7         -14149.7\n",
              "alpha_1e-05   1.13042e+11  336217  ...          14168.2         -14168.2\n",
              "alpha_0.0001  1.13238e+11  336508  ...          14337.3         -14337.3\n",
              "alpha_0.001   1.14946e+11  339036  ...          15172.9         -15172.9\n",
              "alpha_0.01     1.2125e+11  348210  ...          13880.6         -13880.6\n",
              "alpha_0.1     1.29671e+11  360098  ...          4909.93         -4909.93\n",
              "alpha_1       1.39212e+11  373111  ...          -861.65           861.65\n",
              "alpha_10      1.83102e+11  427904  ...          2116.57         -2116.57\n",
              "alpha_1e+02   2.28428e+11  477942  ...          550.456         -550.456\n",
              "\n",
              "[10 rows x 27 columns]"
            ]
          },
          "metadata": {
            "tags": []
          },
          "execution_count": 47
        }
      ]
    },
    {
      "cell_type": "markdown",
      "metadata": {
        "id": "-ZCQpAunWqF5"
      },
      "source": [
        "- We can see that when alpha decreases, the RMSE decreases and R^2 score increases. \n",
        "- As the alpha increases, coefficients are getting close to zero."
      ]
    },
    {
      "cell_type": "code",
      "metadata": {
        "colab": {
          "base_uri": "https://localhost:8080/",
          "height": 449
        },
        "id": "dP3O38i71jF3",
        "outputId": "a0e85f80-81db-4ad6-f726-e00cb4d335ff"
      },
      "source": [
        "# AIC and SSE graph\n",
        "ax1 = ridge_matrix.AIC.plot(color = 'blue')\n",
        "plt.legend(loc = 'center left')\n",
        "ax2 = ridge_matrix.SSE.plot(color = 'red', secondary_y = True)\n",
        "plt.legend(loc = 'center right')\n",
        "plt.title('AIC and SSE')\n",
        "plt.xlabel('alpha')\n",
        "plt.show()"
      ],
      "execution_count": null,
      "outputs": [
        {
          "output_type": "display_data",
          "data": {
            "image/png": "[encoded data removed]",
            "text/plain": [
              "<Figure size 1728x576 with 2 Axes>"
            ]
          },
          "metadata": {
            "tags": []
          }
        }
      ]
    },
    {
      "cell_type": "markdown",
      "metadata": {
        "id": "dAIp8h6JIPXy"
      },
      "source": [
        "### Lasso"
      ]
    },
    {
      "cell_type": "code",
      "metadata": {
        "colab": {
          "base_uri": "https://localhost:8080/",
          "height": 716
        },
        "id": "HyW2wGXYmEI9",
        "outputId": "5fb21e77-6c53-45fa-87b2-78e22ddbeaf9"
      },
      "source": [
        "# Set a list of alpha\n",
        "alphas = np.logspace(-7,3,11)\n",
        "\n",
        "col = ['MSE','RMSE','R^2'] + ['coef_'+i for i in x_col]\n",
        "#col = ['MSE','R^2','SSE','AIC']\n",
        "ind = ['alpha_%.2g'%alphas[i] for i in range(len(alphas))]\n",
        "lasso_matrix = pd.DataFrame(index=ind, columns=col)\n",
        "\n",
        "for i in range(len(alphas)):\n",
        "  lasso = Lasso(alpha = alphas[i],normalize=True)\n",
        "  lasso.fit(X_train,y_train)\n",
        "  y_pred = lasso.predict(X_test)\n",
        "  mse = mean_squared_error(y_test,y_pred)\n",
        "  r2 = r2_score(y_test,y_pred)\n",
        "  rmse = np.sqrt(mse)\n",
        "  #sse = sum((y_pred-y_test.values[0])**2)\n",
        "  # aic = n*log(sse/n)+2(k+1), k = number of predictor, k+1 = include intercept\n",
        "  #aic = len(df3_final)*np.log(sse/len(df3_final)) + 2*(len(df3_final.columns))\n",
        "  ret = [mse]\n",
        "  ret.extend([rmse])\n",
        "  ret.extend([r2])\n",
        "  #ret.extend([sse])\n",
        "  #ret.extend([aic])\n",
        "  ret.extend(lasso.coef_)\n",
        "  lasso_matrix.iloc[i,] = ret\n",
        "\n",
        "lasso_matrix\n"
      ],
      "execution_count": null,
      "outputs": [
        {
          "output_type": "stream",
          "text": [
            "/usr/local/lib/python3.6/dist-packages/sklearn/linear_model/_coordinate_descent.py:476: ConvergenceWarning: Objective did not converge. You might want to increase the number of iterations. Duality gap: 3540714776276.1504, tolerance: 1736893871.875\n",
            "  positive)\n",
            "/usr/local/lib/python3.6/dist-packages/sklearn/linear_model/_coordinate_descent.py:476: ConvergenceWarning: Objective did not converge. You might want to increase the number of iterations. Duality gap: 3540714286813.9214, tolerance: 1736893871.875\n",
            "  positive)\n",
            "/usr/local/lib/python3.6/dist-packages/sklearn/linear_model/_coordinate_descent.py:476: ConvergenceWarning: Objective did not converge. You might want to increase the number of iterations. Duality gap: 3540709392196.257, tolerance: 1736893871.875\n",
            "  positive)\n",
            "/usr/local/lib/python3.6/dist-packages/sklearn/linear_model/_coordinate_descent.py:476: ConvergenceWarning: Objective did not converge. You might want to increase the number of iterations. Duality gap: 3540660446497.5903, tolerance: 1736893871.875\n",
            "  positive)\n",
            "/usr/local/lib/python3.6/dist-packages/sklearn/linear_model/_coordinate_descent.py:476: ConvergenceWarning: Objective did not converge. You might want to increase the number of iterations. Duality gap: 3540171037286.2007, tolerance: 1736893871.875\n",
            "  positive)\n",
            "/usr/local/lib/python3.6/dist-packages/sklearn/linear_model/_coordinate_descent.py:476: ConvergenceWarning: Objective did not converge. You might want to increase the number of iterations. Duality gap: 3535281718736.148, tolerance: 1736893871.875\n",
            "  positive)\n",
            "/usr/local/lib/python3.6/dist-packages/sklearn/linear_model/_coordinate_descent.py:476: ConvergenceWarning: Objective did not converge. You might want to increase the number of iterations. Duality gap: 3486861937563.272, tolerance: 1736893871.875\n",
            "  positive)\n",
            "/usr/local/lib/python3.6/dist-packages/sklearn/linear_model/_coordinate_descent.py:476: ConvergenceWarning: Objective did not converge. You might want to increase the number of iterations. Duality gap: 3046388810523.317, tolerance: 1736893871.875\n",
            "  positive)\n",
            "/usr/local/lib/python3.6/dist-packages/sklearn/linear_model/_coordinate_descent.py:476: ConvergenceWarning: Objective did not converge. You might want to increase the number of iterations. Duality gap: 991870167713.3726, tolerance: 1736893871.875\n",
            "  positive)\n"
          ],
          "name": "stderr"
        },
        {
          "output_type": "execute_result",
          "data": {
            "text/html": [
              "<div>\n",
              "<style scoped>\n",
              "    .dataframe tbody tr th:only-of-type {\n",
              "        vertical-align: middle;\n",
              "    }\n",
              "\n",
              "    .dataframe tbody tr th {\n",
              "        vertical-align: top;\n",
              "    }\n",
              "\n",
              "    .dataframe thead th {\n",
              "        text-align: right;\n",
              "    }\n",
              "</style>\n",
              "<table border=\"1\" class=\"dataframe\">\n",
              "  <thead>\n",
              "    <tr style=\"text-align: right;\">\n",
              "      <th></th>\n",
              "      <th>MSE</th>\n",
              "      <th>RMSE</th>\n",
              "      <th>R^2</th>\n",
              "      <th>coef_count_at_bats</th>\n",
              "      <th>coef_count_hits</th>\n",
              "      <th>coef_count_home_runs</th>\n",
              "      <th>coef_count_runs</th>\n",
              "      <th>coef_RBI</th>\n",
              "      <th>coef_count_walks</th>\n",
              "      <th>coef_years_experience</th>\n",
              "      <th>coef_cumulative_at_bats</th>\n",
              "      <th>coef_cumulative_hits</th>\n",
              "      <th>coef_cumulative_home_runs</th>\n",
              "      <th>coef_cumulative_runs</th>\n",
              "      <th>coef_cumulative_RBI</th>\n",
              "      <th>coef_cumulative_walks</th>\n",
              "      <th>coef_PutOuts</th>\n",
              "      <th>coef_Assists</th>\n",
              "      <th>coef_Errors</th>\n",
              "      <th>coef_League_A</th>\n",
              "      <th>coef_League_N</th>\n",
              "      <th>coef_Division_E</th>\n",
              "      <th>coef_Division_W</th>\n",
              "      <th>coef_NewLeague_A</th>\n",
              "      <th>coef_NewLeague_N</th>\n",
              "    </tr>\n",
              "  </thead>\n",
              "  <tbody>\n",
              "    <tr>\n",
              "      <th>alpha_1e-07</th>\n",
              "      <td>1.12666e+11</td>\n",
              "      <td>335658</td>\n",
              "      <td>0.507612</td>\n",
              "      <td>-1023.58</td>\n",
              "      <td>5388.61</td>\n",
              "      <td>11336.2</td>\n",
              "      <td>-1713.98</td>\n",
              "      <td>-3008.01</td>\n",
              "      <td>7409.06</td>\n",
              "      <td>13877.8</td>\n",
              "      <td>-188.268</td>\n",
              "      <td>272.929</td>\n",
              "      <td>-1290.78</td>\n",
              "      <td>1175.52</td>\n",
              "      <td>863.248</td>\n",
              "      <td>-919.115</td>\n",
              "      <td>126.067</td>\n",
              "      <td>182.491</td>\n",
              "      <td>54.5873</td>\n",
              "      <td>-27304.1</td>\n",
              "      <td>1.8005e-12</td>\n",
              "      <td>87715.6</td>\n",
              "      <td>-0</td>\n",
              "      <td>31179.8</td>\n",
              "      <td>-0</td>\n",
              "    </tr>\n",
              "    <tr>\n",
              "      <th>alpha_1e-06</th>\n",
              "      <td>1.12666e+11</td>\n",
              "      <td>335658</td>\n",
              "      <td>0.507612</td>\n",
              "      <td>-1023.58</td>\n",
              "      <td>5388.61</td>\n",
              "      <td>11336.2</td>\n",
              "      <td>-1713.98</td>\n",
              "      <td>-3008.01</td>\n",
              "      <td>7409.06</td>\n",
              "      <td>13877.8</td>\n",
              "      <td>-188.268</td>\n",
              "      <td>272.929</td>\n",
              "      <td>-1290.78</td>\n",
              "      <td>1175.52</td>\n",
              "      <td>863.248</td>\n",
              "      <td>-919.115</td>\n",
              "      <td>126.067</td>\n",
              "      <td>182.491</td>\n",
              "      <td>54.5873</td>\n",
              "      <td>-27304.1</td>\n",
              "      <td>0</td>\n",
              "      <td>87715.6</td>\n",
              "      <td>-0</td>\n",
              "      <td>31179.8</td>\n",
              "      <td>-5.15102e-12</td>\n",
              "    </tr>\n",
              "    <tr>\n",
              "      <th>alpha_1e-05</th>\n",
              "      <td>1.12666e+11</td>\n",
              "      <td>335658</td>\n",
              "      <td>0.507612</td>\n",
              "      <td>-1023.58</td>\n",
              "      <td>5388.61</td>\n",
              "      <td>11336.2</td>\n",
              "      <td>-1713.98</td>\n",
              "      <td>-3008.01</td>\n",
              "      <td>7409.06</td>\n",
              "      <td>13877.8</td>\n",
              "      <td>-188.268</td>\n",
              "      <td>272.929</td>\n",
              "      <td>-1290.78</td>\n",
              "      <td>1175.52</td>\n",
              "      <td>863.247</td>\n",
              "      <td>-919.115</td>\n",
              "      <td>126.067</td>\n",
              "      <td>182.491</td>\n",
              "      <td>54.5872</td>\n",
              "      <td>-27304.1</td>\n",
              "      <td>0</td>\n",
              "      <td>87715.6</td>\n",
              "      <td>-0</td>\n",
              "      <td>31179.8</td>\n",
              "      <td>-5.93268e-12</td>\n",
              "    </tr>\n",
              "    <tr>\n",
              "      <th>alpha_0.0001</th>\n",
              "      <td>1.12666e+11</td>\n",
              "      <td>335658</td>\n",
              "      <td>0.507612</td>\n",
              "      <td>-1023.58</td>\n",
              "      <td>5388.61</td>\n",
              "      <td>11336.2</td>\n",
              "      <td>-1713.98</td>\n",
              "      <td>-3008.01</td>\n",
              "      <td>7409.06</td>\n",
              "      <td>13877.8</td>\n",
              "      <td>-188.268</td>\n",
              "      <td>272.928</td>\n",
              "      <td>-1290.78</td>\n",
              "      <td>1175.51</td>\n",
              "      <td>863.247</td>\n",
              "      <td>-919.115</td>\n",
              "      <td>126.067</td>\n",
              "      <td>182.491</td>\n",
              "      <td>54.5863</td>\n",
              "      <td>-27304</td>\n",
              "      <td>1.74925e-11</td>\n",
              "      <td>87715.6</td>\n",
              "      <td>-0</td>\n",
              "      <td>31179.8</td>\n",
              "      <td>-5.93601e-12</td>\n",
              "    </tr>\n",
              "    <tr>\n",
              "      <th>alpha_0.001</th>\n",
              "      <td>1.12666e+11</td>\n",
              "      <td>335658</td>\n",
              "      <td>0.507612</td>\n",
              "      <td>-1023.58</td>\n",
              "      <td>5388.6</td>\n",
              "      <td>11336.1</td>\n",
              "      <td>-1713.96</td>\n",
              "      <td>-3007.99</td>\n",
              "      <td>7409.05</td>\n",
              "      <td>13877.6</td>\n",
              "      <td>-188.265</td>\n",
              "      <td>272.925</td>\n",
              "      <td>-1290.76</td>\n",
              "      <td>1175.51</td>\n",
              "      <td>863.238</td>\n",
              "      <td>-919.113</td>\n",
              "      <td>126.067</td>\n",
              "      <td>182.489</td>\n",
              "      <td>54.5769</td>\n",
              "      <td>-27303.8</td>\n",
              "      <td>4.62394e-12</td>\n",
              "      <td>87715.6</td>\n",
              "      <td>-0</td>\n",
              "      <td>31179.6</td>\n",
              "      <td>-0</td>\n",
              "    </tr>\n",
              "    <tr>\n",
              "      <th>alpha_0.01</th>\n",
              "      <td>1.12667e+11</td>\n",
              "      <td>335659</td>\n",
              "      <td>0.507609</td>\n",
              "      <td>-1023.59</td>\n",
              "      <td>5388.57</td>\n",
              "      <td>11335.6</td>\n",
              "      <td>-1713.81</td>\n",
              "      <td>-3007.82</td>\n",
              "      <td>7408.98</td>\n",
              "      <td>13875.9</td>\n",
              "      <td>-188.235</td>\n",
              "      <td>272.894</td>\n",
              "      <td>-1290.63</td>\n",
              "      <td>1175.42</td>\n",
              "      <td>863.155</td>\n",
              "      <td>-919.097</td>\n",
              "      <td>126.069</td>\n",
              "      <td>182.475</td>\n",
              "      <td>54.4834</td>\n",
              "      <td>-27301</td>\n",
              "      <td>0</td>\n",
              "      <td>87715.7</td>\n",
              "      <td>-0</td>\n",
              "      <td>31178.1</td>\n",
              "      <td>-0</td>\n",
              "    </tr>\n",
              "    <tr>\n",
              "      <th>alpha_0.1</th>\n",
              "      <td>1.12674e+11</td>\n",
              "      <td>335670</td>\n",
              "      <td>0.507576</td>\n",
              "      <td>-1023.67</td>\n",
              "      <td>5388.23</td>\n",
              "      <td>11330.3</td>\n",
              "      <td>-1712.31</td>\n",
              "      <td>-3006.15</td>\n",
              "      <td>7408.22</td>\n",
              "      <td>13858.4</td>\n",
              "      <td>-187.933</td>\n",
              "      <td>272.585</td>\n",
              "      <td>-1289.24</td>\n",
              "      <td>1174.52</td>\n",
              "      <td>862.319</td>\n",
              "      <td>-918.935</td>\n",
              "      <td>126.086</td>\n",
              "      <td>182.329</td>\n",
              "      <td>53.5486</td>\n",
              "      <td>-27273.8</td>\n",
              "      <td>0</td>\n",
              "      <td>87716.9</td>\n",
              "      <td>-0</td>\n",
              "      <td>31162.3</td>\n",
              "      <td>-5.20758e-13</td>\n",
              "    </tr>\n",
              "    <tr>\n",
              "      <th>alpha_1</th>\n",
              "      <td>1.12749e+11</td>\n",
              "      <td>335782</td>\n",
              "      <td>0.507248</td>\n",
              "      <td>-1024.56</td>\n",
              "      <td>5384.85</td>\n",
              "      <td>11276.7</td>\n",
              "      <td>-1697.29</td>\n",
              "      <td>-2989.4</td>\n",
              "      <td>7400.66</td>\n",
              "      <td>13683.8</td>\n",
              "      <td>-184.919</td>\n",
              "      <td>269.502</td>\n",
              "      <td>-1275.41</td>\n",
              "      <td>1165.56</td>\n",
              "      <td>853.962</td>\n",
              "      <td>-917.31</td>\n",
              "      <td>126.255</td>\n",
              "      <td>180.876</td>\n",
              "      <td>44.1956</td>\n",
              "      <td>-27001.2</td>\n",
              "      <td>0</td>\n",
              "      <td>87728.3</td>\n",
              "      <td>-0</td>\n",
              "      <td>31005.2</td>\n",
              "      <td>-0</td>\n",
              "    </tr>\n",
              "    <tr>\n",
              "      <th>alpha_10</th>\n",
              "      <td>1.13584e+11</td>\n",
              "      <td>337022</td>\n",
              "      <td>0.503602</td>\n",
              "      <td>-1033.67</td>\n",
              "      <td>5350.96</td>\n",
              "      <td>10736</td>\n",
              "      <td>-1545.85</td>\n",
              "      <td>-2821.76</td>\n",
              "      <td>7325.11</td>\n",
              "      <td>11954.8</td>\n",
              "      <td>-155.029</td>\n",
              "      <td>239.722</td>\n",
              "      <td>-1134.47</td>\n",
              "      <td>1075.7</td>\n",
              "      <td>769.702</td>\n",
              "      <td>-901.089</td>\n",
              "      <td>127.922</td>\n",
              "      <td>165.038</td>\n",
              "      <td>-0</td>\n",
              "      <td>-24220.5</td>\n",
              "      <td>7.74098e-12</td>\n",
              "      <td>87786.4</td>\n",
              "      <td>-1.03099e-11</td>\n",
              "      <td>29431.3</td>\n",
              "      <td>-2.60443e-12</td>\n",
              "    </tr>\n",
              "    <tr>\n",
              "      <th>alpha_1e+02</th>\n",
              "      <td>1.22176e+11</td>\n",
              "      <td>349537</td>\n",
              "      <td>0.466052</td>\n",
              "      <td>-939.088</td>\n",
              "      <td>4433.15</td>\n",
              "      <td>6180.94</td>\n",
              "      <td>-0</td>\n",
              "      <td>-1314.42</td>\n",
              "      <td>6418.99</td>\n",
              "      <td>2166.87</td>\n",
              "      <td>-0</td>\n",
              "      <td>241.602</td>\n",
              "      <td>-0</td>\n",
              "      <td>322.799</td>\n",
              "      <td>136.642</td>\n",
              "      <td>-695.422</td>\n",
              "      <td>132.002</td>\n",
              "      <td>54.5058</td>\n",
              "      <td>-221.087</td>\n",
              "      <td>-5077.39</td>\n",
              "      <td>3.87049e-12</td>\n",
              "      <td>86871.9</td>\n",
              "      <td>-1.03099e-11</td>\n",
              "      <td>15981.5</td>\n",
              "      <td>-8.46439e-12</td>\n",
              "    </tr>\n",
              "    <tr>\n",
              "      <th>alpha_1e+03</th>\n",
              "      <td>1.35409e+11</td>\n",
              "      <td>367979</td>\n",
              "      <td>0.40822</td>\n",
              "      <td>0</td>\n",
              "      <td>2367.89</td>\n",
              "      <td>2447.52</td>\n",
              "      <td>120.045</td>\n",
              "      <td>0</td>\n",
              "      <td>3202.94</td>\n",
              "      <td>0</td>\n",
              "      <td>0</td>\n",
              "      <td>212.568</td>\n",
              "      <td>0</td>\n",
              "      <td>0</td>\n",
              "      <td>0</td>\n",
              "      <td>-0</td>\n",
              "      <td>112.233</td>\n",
              "      <td>-0</td>\n",
              "      <td>-0</td>\n",
              "      <td>-0</td>\n",
              "      <td>0</td>\n",
              "      <td>65266.5</td>\n",
              "      <td>-0</td>\n",
              "      <td>0</td>\n",
              "      <td>-0</td>\n",
              "    </tr>\n",
              "  </tbody>\n",
              "</table>\n",
              "</div>"
            ],
            "text/plain": [
              "                      MSE    RMSE  ... coef_NewLeague_A coef_NewLeague_N\n",
              "alpha_1e-07   1.12666e+11  335658  ...          31179.8               -0\n",
              "alpha_1e-06   1.12666e+11  335658  ...          31179.8     -5.15102e-12\n",
              "alpha_1e-05   1.12666e+11  335658  ...          31179.8     -5.93268e-12\n",
              "alpha_0.0001  1.12666e+11  335658  ...          31179.8     -5.93601e-12\n",
              "alpha_0.001   1.12666e+11  335658  ...          31179.6               -0\n",
              "alpha_0.01    1.12667e+11  335659  ...          31178.1               -0\n",
              "alpha_0.1     1.12674e+11  335670  ...          31162.3     -5.20758e-13\n",
              "alpha_1       1.12749e+11  335782  ...          31005.2               -0\n",
              "alpha_10      1.13584e+11  337022  ...          29431.3     -2.60443e-12\n",
              "alpha_1e+02   1.22176e+11  349537  ...          15981.5     -8.46439e-12\n",
              "alpha_1e+03   1.35409e+11  367979  ...                0               -0\n",
              "\n",
              "[11 rows x 25 columns]"
            ]
          },
          "metadata": {
            "tags": []
          },
          "execution_count": 49
        }
      ]
    },
    {
      "cell_type": "markdown",
      "metadata": {
        "id": "oHLp0h7iizOQ"
      },
      "source": [
        "- This Lasso model perfoms like Ridge model above:\n",
        "  - When alpha decreases, the RMSE decreases and R^2 score increases. \n",
        "  - As the alpha increases, coefficients are getting close to zero.\n",
        "- However, for my point of view, after cleansing data we have only 184 data to test the Ridge and Lasso models are quite not enough that we can only get low R^2 score and high RMSE. To get a better fit model, we should aquire more data to investigate."
      ]
    },
    {
      "cell_type": "markdown",
      "metadata": {
        "id": "1LHG7c5hr-aK"
      },
      "source": [
        "# Reference:\n",
        "- Ashish Kumar (2016) Learning Predictive Analytics with Python. Implementing logistic regression with Python.\n",
        "- Dainel Lenz (Aug 7,2018) Subplot in matplotlib.\n",
        "https://stackoverflow.com/questions/51736396/subplots-in-matplotlib-give-valueerror-not-enough-values-to-unpack/51736488\n",
        "- Matplotlib Basic pie chart.\n",
        "https://matplotlib.org/3.1.1/gallery/pie_and_polar_charts/pie_features.html\n",
        "-  manjeet_04 (Nov 28,2018) Convert two lists into a dictionary\n",
        "https://www.geeksforgeeks.org/python-convert-two-lists-into-a-dictionary/\n",
        "- garg_ak0109 (Aug 07, 2019) Find keys with duplicate values in dictionary\n",
        "https://www.geeksforgeeks.org/python-find-keys-with-duplicate-values-in-dictionary/\n",
        "\n",
        "\n"
      ]
    }
  ]
}